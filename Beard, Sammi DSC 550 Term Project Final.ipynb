{
 "cells": [
  {
   "cell_type": "markdown",
   "id": "84c29fc4",
   "metadata": {},
   "source": [
    "## Sammi Beard | Term Project"
   ]
  },
  {
   "cell_type": "markdown",
   "id": "378b4479",
   "metadata": {},
   "source": [
    "### Set Up"
   ]
  },
  {
   "cell_type": "code",
   "execution_count": 1,
   "id": "6741137d",
   "metadata": {},
   "outputs": [],
   "source": [
    "import warnings\n",
    "warnings.filterwarnings('ignore')"
   ]
  },
  {
   "cell_type": "code",
   "execution_count": 2,
   "id": "85bb67eb",
   "metadata": {},
   "outputs": [],
   "source": [
    "# import libraries\n",
    "import pandas as pd\n",
    "import numpy as np\n",
    "import seaborn as sns\n",
    "from sklearn.linear_model import LogisticRegression\n",
    "from sklearn.model_selection import train_test_split\n",
    "from sklearn.multioutput import MultiOutputRegressor\n",
    "from sklearn.linear_model import Ridge\n",
    "from sklearn.linear_model import ElasticNet\n",
    "from sklearn.tree import DecisionTreeRegressor\n",
    "from sklearn.ensemble import RandomForestRegressor\n",
    "from sklearn.metrics import mean_squared_error, mean_absolute_error\n",
    "from sklearn.metrics import accuracy_score\n",
    "from sklearn.metrics import r2_score\n",
    "from sklearn.metrics import f1_score\n",
    "from sklearn.metrics import accuracy_score"
   ]
  },
  {
   "cell_type": "code",
   "execution_count": 3,
   "id": "a202f581",
   "metadata": {},
   "outputs": [],
   "source": [
    "# import files\n",
    "\n",
    "# https://www.kaggle.com/datasets/omarsobhy14/nba-players-salaries\n",
    "NBA_sal_df = pd.read_csv('data/NBA-Player-Salaries-2022-2025.csv') \n",
    "\n",
    "# https://www.kaggle.com/datasets/loganlauton/nba-players-and-team-data?select=NBA+Player+Stats%281950+-+2022%29.csv\n",
    "NBA_player_stats_df = pd.read_csv('data/NBA-Player-Stats(1950-2022).csv')"
   ]
  },
  {
   "cell_type": "markdown",
   "id": "3eb2fead",
   "metadata": {},
   "source": [
    "### Clean Data"
   ]
  },
  {
   "cell_type": "markdown",
   "id": "b1ed76e4",
   "metadata": {},
   "source": [
    "#### NBA_sal_df"
   ]
  },
  {
   "cell_type": "code",
   "execution_count": 4,
   "id": "b452f44b",
   "metadata": {
    "scrolled": true
   },
   "outputs": [
    {
     "data": {
      "text/html": [
       "<div>\n",
       "<style scoped>\n",
       "    .dataframe tbody tr th:only-of-type {\n",
       "        vertical-align: middle;\n",
       "    }\n",
       "\n",
       "    .dataframe tbody tr th {\n",
       "        vertical-align: top;\n",
       "    }\n",
       "\n",
       "    .dataframe thead th {\n",
       "        text-align: right;\n",
       "    }\n",
       "</style>\n",
       "<table border=\"1\" class=\"dataframe\">\n",
       "  <thead>\n",
       "    <tr style=\"text-align: right;\">\n",
       "      <th></th>\n",
       "      <th>Player Id</th>\n",
       "      <th>Player Name</th>\n",
       "      <th>2022/2023</th>\n",
       "      <th>2023/2024</th>\n",
       "      <th>2024/2025</th>\n",
       "      <th>2024/2025.1</th>\n",
       "    </tr>\n",
       "  </thead>\n",
       "  <tbody>\n",
       "    <tr>\n",
       "      <th>0</th>\n",
       "      <td>1</td>\n",
       "      <td>Stephen Curry</td>\n",
       "      <td>$48,070,014</td>\n",
       "      <td>$51,915,615</td>\n",
       "      <td>$55,761,217</td>\n",
       "      <td>$59,606,817</td>\n",
       "    </tr>\n",
       "    <tr>\n",
       "      <th>1</th>\n",
       "      <td>2</td>\n",
       "      <td>John Wall</td>\n",
       "      <td>$47,345,760</td>\n",
       "      <td>$0</td>\n",
       "      <td>$0</td>\n",
       "      <td>$0</td>\n",
       "    </tr>\n",
       "    <tr>\n",
       "      <th>2</th>\n",
       "      <td>3</td>\n",
       "      <td>Russell Westbrook</td>\n",
       "      <td>$47,080,179</td>\n",
       "      <td>$0</td>\n",
       "      <td>$0</td>\n",
       "      <td>$0</td>\n",
       "    </tr>\n",
       "  </tbody>\n",
       "</table>\n",
       "</div>"
      ],
      "text/plain": [
       "   Player Id        Player Name     2022/2023     2023/2024     2024/2025  \\\n",
       "0          1      Stephen Curry  $48,070,014   $51,915,615   $55,761,217    \n",
       "1          2          John Wall  $47,345,760            $0            $0    \n",
       "2          3  Russell Westbrook  $47,080,179            $0            $0    \n",
       "\n",
       "    2024/2025.1  \n",
       "0  $59,606,817   \n",
       "1           $0   \n",
       "2           $0   "
      ]
     },
     "execution_count": 4,
     "metadata": {},
     "output_type": "execute_result"
    }
   ],
   "source": [
    "NBA_sal_df.head(3)"
   ]
  },
  {
   "cell_type": "code",
   "execution_count": 5,
   "id": "9acbfcef",
   "metadata": {
    "scrolled": true
   },
   "outputs": [
    {
     "data": {
      "text/html": [
       "<div>\n",
       "<style scoped>\n",
       "    .dataframe tbody tr th:only-of-type {\n",
       "        vertical-align: middle;\n",
       "    }\n",
       "\n",
       "    .dataframe tbody tr th {\n",
       "        vertical-align: top;\n",
       "    }\n",
       "\n",
       "    .dataframe thead th {\n",
       "        text-align: right;\n",
       "    }\n",
       "</style>\n",
       "<table border=\"1\" class=\"dataframe\">\n",
       "  <thead>\n",
       "    <tr style=\"text-align: right;\">\n",
       "      <th></th>\n",
       "      <th>Player Name</th>\n",
       "      <th>2022_Salary</th>\n",
       "    </tr>\n",
       "  </thead>\n",
       "  <tbody>\n",
       "    <tr>\n",
       "      <th>0</th>\n",
       "      <td>Stephen Curry</td>\n",
       "      <td>$48,070,014</td>\n",
       "    </tr>\n",
       "    <tr>\n",
       "      <th>1</th>\n",
       "      <td>John Wall</td>\n",
       "      <td>$47,345,760</td>\n",
       "    </tr>\n",
       "    <tr>\n",
       "      <th>2</th>\n",
       "      <td>Russell Westbrook</td>\n",
       "      <td>$47,080,179</td>\n",
       "    </tr>\n",
       "  </tbody>\n",
       "</table>\n",
       "</div>"
      ],
      "text/plain": [
       "         Player Name   2022_Salary\n",
       "0      Stephen Curry  $48,070,014 \n",
       "1          John Wall  $47,345,760 \n",
       "2  Russell Westbrook  $47,080,179 "
      ]
     },
     "execution_count": 5,
     "metadata": {},
     "output_type": "execute_result"
    }
   ],
   "source": [
    "# drop columns that have missing data and rename column\n",
    "NBA_sal_df_clean = NBA_sal_df.drop(['Player Id', '2024/2025.1','2023/2024', '2024/2025'], axis=1)\n",
    "NBA_sal_df_clean = NBA_sal_df_clean.rename(columns={'2022/2023': '2022_Salary'})\n",
    "NBA_sal_df_clean.head(3)"
   ]
  },
  {
   "cell_type": "markdown",
   "id": "a165bd7d",
   "metadata": {},
   "source": [
    "#### NBA_player_stats_df"
   ]
  },
  {
   "cell_type": "code",
   "execution_count": 6,
   "id": "8073ead8",
   "metadata": {},
   "outputs": [
    {
     "data": {
      "text/html": [
       "<div>\n",
       "<style scoped>\n",
       "    .dataframe tbody tr th:only-of-type {\n",
       "        vertical-align: middle;\n",
       "    }\n",
       "\n",
       "    .dataframe tbody tr th {\n",
       "        vertical-align: top;\n",
       "    }\n",
       "\n",
       "    .dataframe thead th {\n",
       "        text-align: right;\n",
       "    }\n",
       "</style>\n",
       "<table border=\"1\" class=\"dataframe\">\n",
       "  <thead>\n",
       "    <tr style=\"text-align: right;\">\n",
       "      <th></th>\n",
       "      <th>Unnamed: 0.1</th>\n",
       "      <th>Unnamed: 0</th>\n",
       "      <th>Season</th>\n",
       "      <th>Player</th>\n",
       "      <th>Pos</th>\n",
       "      <th>Age</th>\n",
       "      <th>Tm</th>\n",
       "      <th>G</th>\n",
       "      <th>GS</th>\n",
       "      <th>MP</th>\n",
       "      <th>...</th>\n",
       "      <th>FT%</th>\n",
       "      <th>ORB</th>\n",
       "      <th>DRB</th>\n",
       "      <th>TRB</th>\n",
       "      <th>AST</th>\n",
       "      <th>STL</th>\n",
       "      <th>BLK</th>\n",
       "      <th>TOV</th>\n",
       "      <th>PF</th>\n",
       "      <th>PTS</th>\n",
       "    </tr>\n",
       "  </thead>\n",
       "  <tbody>\n",
       "    <tr>\n",
       "      <th>0</th>\n",
       "      <td>0</td>\n",
       "      <td>0</td>\n",
       "      <td>1950</td>\n",
       "      <td>Curly Armstrong</td>\n",
       "      <td>G-F</td>\n",
       "      <td>31.0</td>\n",
       "      <td>FTW</td>\n",
       "      <td>63.0</td>\n",
       "      <td>NaN</td>\n",
       "      <td>NaN</td>\n",
       "      <td>...</td>\n",
       "      <td>0.705</td>\n",
       "      <td>NaN</td>\n",
       "      <td>NaN</td>\n",
       "      <td>NaN</td>\n",
       "      <td>176.0</td>\n",
       "      <td>NaN</td>\n",
       "      <td>NaN</td>\n",
       "      <td>NaN</td>\n",
       "      <td>217.0</td>\n",
       "      <td>458.0</td>\n",
       "    </tr>\n",
       "    <tr>\n",
       "      <th>1</th>\n",
       "      <td>1</td>\n",
       "      <td>1</td>\n",
       "      <td>1950</td>\n",
       "      <td>Cliff Barker</td>\n",
       "      <td>SG</td>\n",
       "      <td>29.0</td>\n",
       "      <td>INO</td>\n",
       "      <td>49.0</td>\n",
       "      <td>NaN</td>\n",
       "      <td>NaN</td>\n",
       "      <td>...</td>\n",
       "      <td>0.708</td>\n",
       "      <td>NaN</td>\n",
       "      <td>NaN</td>\n",
       "      <td>NaN</td>\n",
       "      <td>109.0</td>\n",
       "      <td>NaN</td>\n",
       "      <td>NaN</td>\n",
       "      <td>NaN</td>\n",
       "      <td>99.0</td>\n",
       "      <td>279.0</td>\n",
       "    </tr>\n",
       "    <tr>\n",
       "      <th>2</th>\n",
       "      <td>2</td>\n",
       "      <td>2</td>\n",
       "      <td>1950</td>\n",
       "      <td>Leo Barnhorst</td>\n",
       "      <td>SF</td>\n",
       "      <td>25.0</td>\n",
       "      <td>CHS</td>\n",
       "      <td>67.0</td>\n",
       "      <td>NaN</td>\n",
       "      <td>NaN</td>\n",
       "      <td>...</td>\n",
       "      <td>0.698</td>\n",
       "      <td>NaN</td>\n",
       "      <td>NaN</td>\n",
       "      <td>NaN</td>\n",
       "      <td>140.0</td>\n",
       "      <td>NaN</td>\n",
       "      <td>NaN</td>\n",
       "      <td>NaN</td>\n",
       "      <td>192.0</td>\n",
       "      <td>438.0</td>\n",
       "    </tr>\n",
       "  </tbody>\n",
       "</table>\n",
       "<p>3 rows × 32 columns</p>\n",
       "</div>"
      ],
      "text/plain": [
       "   Unnamed: 0.1  Unnamed: 0  Season           Player  Pos   Age   Tm     G  \\\n",
       "0             0           0    1950  Curly Armstrong  G-F  31.0  FTW  63.0   \n",
       "1             1           1    1950     Cliff Barker   SG  29.0  INO  49.0   \n",
       "2             2           2    1950    Leo Barnhorst   SF  25.0  CHS  67.0   \n",
       "\n",
       "   GS  MP  ...    FT%  ORB  DRB  TRB    AST  STL  BLK  TOV     PF    PTS  \n",
       "0 NaN NaN  ...  0.705  NaN  NaN  NaN  176.0  NaN  NaN  NaN  217.0  458.0  \n",
       "1 NaN NaN  ...  0.708  NaN  NaN  NaN  109.0  NaN  NaN  NaN   99.0  279.0  \n",
       "2 NaN NaN  ...  0.698  NaN  NaN  NaN  140.0  NaN  NaN  NaN  192.0  438.0  \n",
       "\n",
       "[3 rows x 32 columns]"
      ]
     },
     "execution_count": 6,
     "metadata": {},
     "output_type": "execute_result"
    }
   ],
   "source": [
    "NBA_player_stats_df.head(3)"
   ]
  },
  {
   "cell_type": "code",
   "execution_count": 7,
   "id": "1c1de6c0",
   "metadata": {
    "scrolled": true
   },
   "outputs": [],
   "source": [
    "# drop unnamed columns\n",
    "NBA_player_stats_df_clean = NBA_player_stats_df.drop(['Unnamed: 0.1', \"Unnamed: 0\"], axis=1)"
   ]
  },
  {
   "cell_type": "code",
   "execution_count": 8,
   "id": "31dcab35",
   "metadata": {},
   "outputs": [],
   "source": [
    "# rename columns for easier readability\n",
    "NBA_player_stats_df_clean = NBA_player_stats_df_clean.rename(columns={'Pos': 'Position',\n",
    "                                                                      'Tm': 'Team', \n",
    "                                                                      'Player': 'Player Name',\n",
    "                                                                      'G': 'Games Played',\n",
    "                                                                      'GS': 'Games Started',\n",
    "                                                                      'MP': 'Minutes Played',\n",
    "                                                                      'FGA': 'FG Attempted',\n",
    "                                                                      'FG%': 'FG Percent',\n",
    "                                                                      '3PA': '3P Attempted',\n",
    "                                                                      '3P%': '3P Percent',\n",
    "                                                                      '2PA': '2P Attempted',\n",
    "                                                                      '2P%': '2P Percent',\n",
    "                                                                      'eFG%': 'Effective FG',\n",
    "                                                                      'FT': 'Free Throws',\n",
    "                                                                      'FTA': 'Free Throws Attempted',\n",
    "                                                                      'FT%': 'Free Throw Percent',\n",
    "                                                                      'ORB': 'Offensive Rebound',\n",
    "                                                                      'DRB': 'Defensive Rebound',\n",
    "                                                                      'TRB': 'Total Rebound',\n",
    "                                                                      'AST': 'Assist',\n",
    "                                                                      'STL': 'Steals',\n",
    "                                                                      'BLK': 'Block',\n",
    "                                                                      'TOV': 'Turnovers',\n",
    "                                                                      'PF': 'Personal Fouls',\n",
    "                                                                      'PTS': 'Points'})"
   ]
  },
  {
   "cell_type": "code",
   "execution_count": 9,
   "id": "5656141e",
   "metadata": {},
   "outputs": [],
   "source": [
    "# convert season from string to date time\n",
    "NBA_player_stats_df_clean['Season'] = pd.to_datetime(NBA_player_stats_df_clean['Season'], format='%Y')"
   ]
  },
  {
   "cell_type": "code",
   "execution_count": 10,
   "id": "f3cf466e",
   "metadata": {},
   "outputs": [],
   "source": [
    "# drop to the last few years of stats\n",
    "NBA_player_stats_df_clean = NBA_player_stats_df_clean.loc[NBA_player_stats_df_clean['Season'].dt.year >= 2019]"
   ]
  },
  {
   "cell_type": "code",
   "execution_count": 11,
   "id": "7cf32f11",
   "metadata": {},
   "outputs": [],
   "source": [
    "# convert season from date time to year\n",
    "NBA_player_stats_df_clean['Season'] = pd.DatetimeIndex(NBA_player_stats_df_clean['Season']).year"
   ]
  },
  {
   "cell_type": "code",
   "execution_count": 12,
   "id": "e948fc71",
   "metadata": {},
   "outputs": [],
   "source": [
    "# exclude players who have 0 games played \n",
    "NBA_player_stats_df_clean = NBA_player_stats_df_clean[NBA_player_stats_df_clean['Games Played'] > 0]"
   ]
  },
  {
   "cell_type": "code",
   "execution_count": 13,
   "id": "ccb7ed42",
   "metadata": {
    "scrolled": false
   },
   "outputs": [
    {
     "data": {
      "text/html": [
       "<div>\n",
       "<style scoped>\n",
       "    .dataframe tbody tr th:only-of-type {\n",
       "        vertical-align: middle;\n",
       "    }\n",
       "\n",
       "    .dataframe tbody tr th {\n",
       "        vertical-align: top;\n",
       "    }\n",
       "\n",
       "    .dataframe thead th {\n",
       "        text-align: right;\n",
       "    }\n",
       "</style>\n",
       "<table border=\"1\" class=\"dataframe\">\n",
       "  <thead>\n",
       "    <tr style=\"text-align: right;\">\n",
       "      <th></th>\n",
       "      <th>Season</th>\n",
       "      <th>Player Name</th>\n",
       "      <th>Position</th>\n",
       "      <th>Age</th>\n",
       "      <th>Team</th>\n",
       "      <th>Games Played</th>\n",
       "      <th>Games Started</th>\n",
       "      <th>Minutes Played</th>\n",
       "      <th>FG</th>\n",
       "      <th>FG Attempted</th>\n",
       "      <th>...</th>\n",
       "      <th>Free Throw Percent</th>\n",
       "      <th>Offensive Rebound</th>\n",
       "      <th>Defensive Rebound</th>\n",
       "      <th>Total Rebound</th>\n",
       "      <th>Assist</th>\n",
       "      <th>Steals</th>\n",
       "      <th>Block</th>\n",
       "      <th>Turnovers</th>\n",
       "      <th>Personal Fouls</th>\n",
       "      <th>Points</th>\n",
       "    </tr>\n",
       "  </thead>\n",
       "  <tbody>\n",
       "    <tr>\n",
       "      <th>25361</th>\n",
       "      <td>2019</td>\n",
       "      <td>Álex Abrines</td>\n",
       "      <td>SG</td>\n",
       "      <td>25.0</td>\n",
       "      <td>OKC</td>\n",
       "      <td>31.0</td>\n",
       "      <td>2.0</td>\n",
       "      <td>588.0</td>\n",
       "      <td>56.0</td>\n",
       "      <td>157.0</td>\n",
       "      <td>...</td>\n",
       "      <td>0.923</td>\n",
       "      <td>5.0</td>\n",
       "      <td>43.0</td>\n",
       "      <td>48.0</td>\n",
       "      <td>20.0</td>\n",
       "      <td>17.0</td>\n",
       "      <td>6.0</td>\n",
       "      <td>14.0</td>\n",
       "      <td>53.0</td>\n",
       "      <td>165.0</td>\n",
       "    </tr>\n",
       "    <tr>\n",
       "      <th>25362</th>\n",
       "      <td>2019</td>\n",
       "      <td>Quincy Acy</td>\n",
       "      <td>PF</td>\n",
       "      <td>28.0</td>\n",
       "      <td>PHO</td>\n",
       "      <td>10.0</td>\n",
       "      <td>0.0</td>\n",
       "      <td>123.0</td>\n",
       "      <td>4.0</td>\n",
       "      <td>18.0</td>\n",
       "      <td>...</td>\n",
       "      <td>0.700</td>\n",
       "      <td>3.0</td>\n",
       "      <td>22.0</td>\n",
       "      <td>25.0</td>\n",
       "      <td>8.0</td>\n",
       "      <td>1.0</td>\n",
       "      <td>4.0</td>\n",
       "      <td>4.0</td>\n",
       "      <td>24.0</td>\n",
       "      <td>17.0</td>\n",
       "    </tr>\n",
       "    <tr>\n",
       "      <th>25363</th>\n",
       "      <td>2019</td>\n",
       "      <td>Jaylen Adams</td>\n",
       "      <td>PG</td>\n",
       "      <td>22.0</td>\n",
       "      <td>ATL</td>\n",
       "      <td>34.0</td>\n",
       "      <td>1.0</td>\n",
       "      <td>428.0</td>\n",
       "      <td>38.0</td>\n",
       "      <td>110.0</td>\n",
       "      <td>...</td>\n",
       "      <td>0.778</td>\n",
       "      <td>11.0</td>\n",
       "      <td>49.0</td>\n",
       "      <td>60.0</td>\n",
       "      <td>65.0</td>\n",
       "      <td>14.0</td>\n",
       "      <td>5.0</td>\n",
       "      <td>28.0</td>\n",
       "      <td>45.0</td>\n",
       "      <td>108.0</td>\n",
       "    </tr>\n",
       "  </tbody>\n",
       "</table>\n",
       "<p>3 rows × 30 columns</p>\n",
       "</div>"
      ],
      "text/plain": [
       "       Season   Player Name Position   Age Team  Games Played  Games Started  \\\n",
       "25361    2019  Álex Abrines       SG  25.0  OKC          31.0            2.0   \n",
       "25362    2019    Quincy Acy       PF  28.0  PHO          10.0            0.0   \n",
       "25363    2019  Jaylen Adams       PG  22.0  ATL          34.0            1.0   \n",
       "\n",
       "       Minutes Played    FG  FG Attempted  ...  Free Throw Percent  \\\n",
       "25361           588.0  56.0         157.0  ...               0.923   \n",
       "25362           123.0   4.0          18.0  ...               0.700   \n",
       "25363           428.0  38.0         110.0  ...               0.778   \n",
       "\n",
       "       Offensive Rebound  Defensive Rebound  Total Rebound  Assist  Steals  \\\n",
       "25361                5.0               43.0           48.0    20.0    17.0   \n",
       "25362                3.0               22.0           25.0     8.0     1.0   \n",
       "25363               11.0               49.0           60.0    65.0    14.0   \n",
       "\n",
       "       Block  Turnovers  Personal Fouls  Points  \n",
       "25361    6.0       14.0            53.0   165.0  \n",
       "25362    4.0        4.0            24.0    17.0  \n",
       "25363    5.0       28.0            45.0   108.0  \n",
       "\n",
       "[3 rows x 30 columns]"
      ]
     },
     "execution_count": 13,
     "metadata": {},
     "output_type": "execute_result"
    }
   ],
   "source": [
    "NBA_player_stats_df_clean.head(3)"
   ]
  },
  {
   "cell_type": "code",
   "execution_count": 14,
   "id": "e42dc5ad",
   "metadata": {},
   "outputs": [
    {
     "data": {
      "text/plain": [
       "['Season',\n",
       " 'Player Name',\n",
       " 'Position',\n",
       " 'Age',\n",
       " 'Team',\n",
       " 'Games Played',\n",
       " 'Games Started',\n",
       " 'Minutes Played',\n",
       " 'FG',\n",
       " 'FG Attempted',\n",
       " 'FG Percent',\n",
       " '3P',\n",
       " '3P Attempted',\n",
       " '3P Percent',\n",
       " '2P',\n",
       " '2P Attempted',\n",
       " '2P Percent',\n",
       " 'Effective FG',\n",
       " 'Free Throws',\n",
       " 'Free Throws Attempted',\n",
       " 'Free Throw Percent',\n",
       " 'Offensive Rebound',\n",
       " 'Defensive Rebound',\n",
       " 'Total Rebound',\n",
       " 'Assist',\n",
       " 'Steals',\n",
       " 'Block',\n",
       " 'Turnovers',\n",
       " 'Personal Fouls',\n",
       " 'Points']"
      ]
     },
     "execution_count": 14,
     "metadata": {},
     "output_type": "execute_result"
    }
   ],
   "source": [
    "list(NBA_player_stats_df_clean.columns)"
   ]
  },
  {
   "cell_type": "code",
   "execution_count": 15,
   "id": "d0df83f6",
   "metadata": {},
   "outputs": [],
   "source": [
    "# narrow seasons further to 2022 to match salary data we have\n",
    "NBA_player_stats_df_2022 = NBA_player_stats_df_clean.loc[NBA_player_stats_df_clean['Season'] == 2022]"
   ]
  },
  {
   "cell_type": "markdown",
   "id": "f506631a",
   "metadata": {},
   "source": [
    "### Join Tables"
   ]
  },
  {
   "cell_type": "code",
   "execution_count": 16,
   "id": "f81904d3",
   "metadata": {
    "scrolled": false
   },
   "outputs": [
    {
     "data": {
      "text/html": [
       "<div>\n",
       "<style scoped>\n",
       "    .dataframe tbody tr th:only-of-type {\n",
       "        vertical-align: middle;\n",
       "    }\n",
       "\n",
       "    .dataframe tbody tr th {\n",
       "        vertical-align: top;\n",
       "    }\n",
       "\n",
       "    .dataframe thead th {\n",
       "        text-align: right;\n",
       "    }\n",
       "</style>\n",
       "<table border=\"1\" class=\"dataframe\">\n",
       "  <thead>\n",
       "    <tr style=\"text-align: right;\">\n",
       "      <th></th>\n",
       "      <th>2022_Salary</th>\n",
       "      <th>Season</th>\n",
       "      <th>Position</th>\n",
       "      <th>Age</th>\n",
       "      <th>Team</th>\n",
       "      <th>Games Played</th>\n",
       "      <th>Games Started</th>\n",
       "      <th>Minutes Played</th>\n",
       "      <th>FG</th>\n",
       "      <th>FG Attempted</th>\n",
       "      <th>...</th>\n",
       "      <th>Free Throw Percent</th>\n",
       "      <th>Offensive Rebound</th>\n",
       "      <th>Defensive Rebound</th>\n",
       "      <th>Total Rebound</th>\n",
       "      <th>Assist</th>\n",
       "      <th>Steals</th>\n",
       "      <th>Block</th>\n",
       "      <th>Turnovers</th>\n",
       "      <th>Personal Fouls</th>\n",
       "      <th>Points</th>\n",
       "    </tr>\n",
       "    <tr>\n",
       "      <th>Player Name</th>\n",
       "      <th></th>\n",
       "      <th></th>\n",
       "      <th></th>\n",
       "      <th></th>\n",
       "      <th></th>\n",
       "      <th></th>\n",
       "      <th></th>\n",
       "      <th></th>\n",
       "      <th></th>\n",
       "      <th></th>\n",
       "      <th></th>\n",
       "      <th></th>\n",
       "      <th></th>\n",
       "      <th></th>\n",
       "      <th></th>\n",
       "      <th></th>\n",
       "      <th></th>\n",
       "      <th></th>\n",
       "      <th></th>\n",
       "      <th></th>\n",
       "      <th></th>\n",
       "    </tr>\n",
       "  </thead>\n",
       "  <tbody>\n",
       "    <tr>\n",
       "      <th>AJ Green</th>\n",
       "      <td>$508,891</td>\n",
       "      <td>NaN</td>\n",
       "      <td>NaN</td>\n",
       "      <td>NaN</td>\n",
       "      <td>NaN</td>\n",
       "      <td>NaN</td>\n",
       "      <td>NaN</td>\n",
       "      <td>NaN</td>\n",
       "      <td>NaN</td>\n",
       "      <td>NaN</td>\n",
       "      <td>...</td>\n",
       "      <td>NaN</td>\n",
       "      <td>NaN</td>\n",
       "      <td>NaN</td>\n",
       "      <td>NaN</td>\n",
       "      <td>NaN</td>\n",
       "      <td>NaN</td>\n",
       "      <td>NaN</td>\n",
       "      <td>NaN</td>\n",
       "      <td>NaN</td>\n",
       "      <td>NaN</td>\n",
       "    </tr>\n",
       "    <tr>\n",
       "      <th>AJ Griffin</th>\n",
       "      <td>$3,536,160</td>\n",
       "      <td>NaN</td>\n",
       "      <td>NaN</td>\n",
       "      <td>NaN</td>\n",
       "      <td>NaN</td>\n",
       "      <td>NaN</td>\n",
       "      <td>NaN</td>\n",
       "      <td>NaN</td>\n",
       "      <td>NaN</td>\n",
       "      <td>NaN</td>\n",
       "      <td>...</td>\n",
       "      <td>NaN</td>\n",
       "      <td>NaN</td>\n",
       "      <td>NaN</td>\n",
       "      <td>NaN</td>\n",
       "      <td>NaN</td>\n",
       "      <td>NaN</td>\n",
       "      <td>NaN</td>\n",
       "      <td>NaN</td>\n",
       "      <td>NaN</td>\n",
       "      <td>NaN</td>\n",
       "    </tr>\n",
       "    <tr>\n",
       "      <th>AJ Lawson</th>\n",
       "      <td>$371,432</td>\n",
       "      <td>NaN</td>\n",
       "      <td>NaN</td>\n",
       "      <td>NaN</td>\n",
       "      <td>NaN</td>\n",
       "      <td>NaN</td>\n",
       "      <td>NaN</td>\n",
       "      <td>NaN</td>\n",
       "      <td>NaN</td>\n",
       "      <td>NaN</td>\n",
       "      <td>...</td>\n",
       "      <td>NaN</td>\n",
       "      <td>NaN</td>\n",
       "      <td>NaN</td>\n",
       "      <td>NaN</td>\n",
       "      <td>NaN</td>\n",
       "      <td>NaN</td>\n",
       "      <td>NaN</td>\n",
       "      <td>NaN</td>\n",
       "      <td>NaN</td>\n",
       "      <td>NaN</td>\n",
       "    </tr>\n",
       "    <tr>\n",
       "      <th>Aaron Gordon</th>\n",
       "      <td>$19,690,909</td>\n",
       "      <td>2022.0</td>\n",
       "      <td>PF</td>\n",
       "      <td>26.0</td>\n",
       "      <td>DEN</td>\n",
       "      <td>75.0</td>\n",
       "      <td>75.0</td>\n",
       "      <td>2376.0</td>\n",
       "      <td>434.0</td>\n",
       "      <td>834.0</td>\n",
       "      <td>...</td>\n",
       "      <td>0.743</td>\n",
       "      <td>125.0</td>\n",
       "      <td>314.0</td>\n",
       "      <td>439.0</td>\n",
       "      <td>188.0</td>\n",
       "      <td>44.0</td>\n",
       "      <td>44.0</td>\n",
       "      <td>133.0</td>\n",
       "      <td>148.0</td>\n",
       "      <td>1126.0</td>\n",
       "    </tr>\n",
       "    <tr>\n",
       "      <th>Aaron Holiday</th>\n",
       "      <td>$1,968,175</td>\n",
       "      <td>2022.0</td>\n",
       "      <td>PG</td>\n",
       "      <td>25.0</td>\n",
       "      <td>TOT</td>\n",
       "      <td>63.0</td>\n",
       "      <td>15.0</td>\n",
       "      <td>1021.0</td>\n",
       "      <td>151.0</td>\n",
       "      <td>338.0</td>\n",
       "      <td>...</td>\n",
       "      <td>0.868</td>\n",
       "      <td>24.0</td>\n",
       "      <td>98.0</td>\n",
       "      <td>122.0</td>\n",
       "      <td>153.0</td>\n",
       "      <td>42.0</td>\n",
       "      <td>9.0</td>\n",
       "      <td>67.0</td>\n",
       "      <td>92.0</td>\n",
       "      <td>400.0</td>\n",
       "    </tr>\n",
       "    <tr>\n",
       "      <th>...</th>\n",
       "      <td>...</td>\n",
       "      <td>...</td>\n",
       "      <td>...</td>\n",
       "      <td>...</td>\n",
       "      <td>...</td>\n",
       "      <td>...</td>\n",
       "      <td>...</td>\n",
       "      <td>...</td>\n",
       "      <td>...</td>\n",
       "      <td>...</td>\n",
       "      <td>...</td>\n",
       "      <td>...</td>\n",
       "      <td>...</td>\n",
       "      <td>...</td>\n",
       "      <td>...</td>\n",
       "      <td>...</td>\n",
       "      <td>...</td>\n",
       "      <td>...</td>\n",
       "      <td>...</td>\n",
       "      <td>...</td>\n",
       "      <td>...</td>\n",
       "    </tr>\n",
       "    <tr>\n",
       "      <th>Zach LaVine</th>\n",
       "      <td>$37,096,500</td>\n",
       "      <td>2022.0</td>\n",
       "      <td>SG</td>\n",
       "      <td>26.0</td>\n",
       "      <td>CHI</td>\n",
       "      <td>67.0</td>\n",
       "      <td>67.0</td>\n",
       "      <td>2328.0</td>\n",
       "      <td>565.0</td>\n",
       "      <td>1186.0</td>\n",
       "      <td>...</td>\n",
       "      <td>0.853</td>\n",
       "      <td>22.0</td>\n",
       "      <td>286.0</td>\n",
       "      <td>308.0</td>\n",
       "      <td>303.0</td>\n",
       "      <td>41.0</td>\n",
       "      <td>23.0</td>\n",
       "      <td>171.0</td>\n",
       "      <td>120.0</td>\n",
       "      <td>1635.0</td>\n",
       "    </tr>\n",
       "    <tr>\n",
       "      <th>Zeke Nnaji</th>\n",
       "      <td>$2,617,800</td>\n",
       "      <td>2022.0</td>\n",
       "      <td>PF</td>\n",
       "      <td>21.0</td>\n",
       "      <td>DEN</td>\n",
       "      <td>41.0</td>\n",
       "      <td>1.0</td>\n",
       "      <td>698.0</td>\n",
       "      <td>96.0</td>\n",
       "      <td>186.0</td>\n",
       "      <td>...</td>\n",
       "      <td>0.631</td>\n",
       "      <td>56.0</td>\n",
       "      <td>91.0</td>\n",
       "      <td>147.0</td>\n",
       "      <td>17.0</td>\n",
       "      <td>16.0</td>\n",
       "      <td>13.0</td>\n",
       "      <td>23.0</td>\n",
       "      <td>79.0</td>\n",
       "      <td>270.0</td>\n",
       "    </tr>\n",
       "    <tr>\n",
       "      <th>Zhaire Smith</th>\n",
       "      <td>$1,068,200</td>\n",
       "      <td>NaN</td>\n",
       "      <td>NaN</td>\n",
       "      <td>NaN</td>\n",
       "      <td>NaN</td>\n",
       "      <td>NaN</td>\n",
       "      <td>NaN</td>\n",
       "      <td>NaN</td>\n",
       "      <td>NaN</td>\n",
       "      <td>NaN</td>\n",
       "      <td>...</td>\n",
       "      <td>NaN</td>\n",
       "      <td>NaN</td>\n",
       "      <td>NaN</td>\n",
       "      <td>NaN</td>\n",
       "      <td>NaN</td>\n",
       "      <td>NaN</td>\n",
       "      <td>NaN</td>\n",
       "      <td>NaN</td>\n",
       "      <td>NaN</td>\n",
       "      <td>NaN</td>\n",
       "    </tr>\n",
       "    <tr>\n",
       "      <th>Ziaire Williams</th>\n",
       "      <td>$4,591,680</td>\n",
       "      <td>2022.0</td>\n",
       "      <td>SF</td>\n",
       "      <td>20.0</td>\n",
       "      <td>MEM</td>\n",
       "      <td>62.0</td>\n",
       "      <td>31.0</td>\n",
       "      <td>1346.0</td>\n",
       "      <td>191.0</td>\n",
       "      <td>424.0</td>\n",
       "      <td>...</td>\n",
       "      <td>0.782</td>\n",
       "      <td>26.0</td>\n",
       "      <td>103.0</td>\n",
       "      <td>129.0</td>\n",
       "      <td>65.0</td>\n",
       "      <td>35.0</td>\n",
       "      <td>12.0</td>\n",
       "      <td>41.0</td>\n",
       "      <td>113.0</td>\n",
       "      <td>501.0</td>\n",
       "    </tr>\n",
       "    <tr>\n",
       "      <th>Zion Williamson</th>\n",
       "      <td>$13,534,817</td>\n",
       "      <td>NaN</td>\n",
       "      <td>NaN</td>\n",
       "      <td>NaN</td>\n",
       "      <td>NaN</td>\n",
       "      <td>NaN</td>\n",
       "      <td>NaN</td>\n",
       "      <td>NaN</td>\n",
       "      <td>NaN</td>\n",
       "      <td>NaN</td>\n",
       "      <td>...</td>\n",
       "      <td>NaN</td>\n",
       "      <td>NaN</td>\n",
       "      <td>NaN</td>\n",
       "      <td>NaN</td>\n",
       "      <td>NaN</td>\n",
       "      <td>NaN</td>\n",
       "      <td>NaN</td>\n",
       "      <td>NaN</td>\n",
       "      <td>NaN</td>\n",
       "      <td>NaN</td>\n",
       "    </tr>\n",
       "  </tbody>\n",
       "</table>\n",
       "<p>687 rows × 30 columns</p>\n",
       "</div>"
      ],
      "text/plain": [
       "                  2022_Salary  Season Position   Age Team  Games Played  \\\n",
       "Player Name                                                               \n",
       "AJ Green            $508,891      NaN      NaN   NaN  NaN           NaN   \n",
       "AJ Griffin        $3,536,160      NaN      NaN   NaN  NaN           NaN   \n",
       "AJ Lawson           $371,432      NaN      NaN   NaN  NaN           NaN   \n",
       "Aaron Gordon     $19,690,909   2022.0       PF  26.0  DEN          75.0   \n",
       "Aaron Holiday     $1,968,175   2022.0       PG  25.0  TOT          63.0   \n",
       "...                       ...     ...      ...   ...  ...           ...   \n",
       "Zach LaVine      $37,096,500   2022.0       SG  26.0  CHI          67.0   \n",
       "Zeke Nnaji        $2,617,800   2022.0       PF  21.0  DEN          41.0   \n",
       "Zhaire Smith      $1,068,200      NaN      NaN   NaN  NaN           NaN   \n",
       "Ziaire Williams   $4,591,680   2022.0       SF  20.0  MEM          62.0   \n",
       "Zion Williamson  $13,534,817      NaN      NaN   NaN  NaN           NaN   \n",
       "\n",
       "                 Games Started  Minutes Played     FG  FG Attempted  ...  \\\n",
       "Player Name                                                          ...   \n",
       "AJ Green                   NaN             NaN    NaN           NaN  ...   \n",
       "AJ Griffin                 NaN             NaN    NaN           NaN  ...   \n",
       "AJ Lawson                  NaN             NaN    NaN           NaN  ...   \n",
       "Aaron Gordon              75.0          2376.0  434.0         834.0  ...   \n",
       "Aaron Holiday             15.0          1021.0  151.0         338.0  ...   \n",
       "...                        ...             ...    ...           ...  ...   \n",
       "Zach LaVine               67.0          2328.0  565.0        1186.0  ...   \n",
       "Zeke Nnaji                 1.0           698.0   96.0         186.0  ...   \n",
       "Zhaire Smith               NaN             NaN    NaN           NaN  ...   \n",
       "Ziaire Williams           31.0          1346.0  191.0         424.0  ...   \n",
       "Zion Williamson            NaN             NaN    NaN           NaN  ...   \n",
       "\n",
       "                 Free Throw Percent  Offensive Rebound  Defensive Rebound  \\\n",
       "Player Name                                                                 \n",
       "AJ Green                        NaN                NaN                NaN   \n",
       "AJ Griffin                      NaN                NaN                NaN   \n",
       "AJ Lawson                       NaN                NaN                NaN   \n",
       "Aaron Gordon                  0.743              125.0              314.0   \n",
       "Aaron Holiday                 0.868               24.0               98.0   \n",
       "...                             ...                ...                ...   \n",
       "Zach LaVine                   0.853               22.0              286.0   \n",
       "Zeke Nnaji                    0.631               56.0               91.0   \n",
       "Zhaire Smith                    NaN                NaN                NaN   \n",
       "Ziaire Williams               0.782               26.0              103.0   \n",
       "Zion Williamson                 NaN                NaN                NaN   \n",
       "\n",
       "                 Total Rebound  Assist  Steals  Block  Turnovers  \\\n",
       "Player Name                                                        \n",
       "AJ Green                   NaN     NaN     NaN    NaN        NaN   \n",
       "AJ Griffin                 NaN     NaN     NaN    NaN        NaN   \n",
       "AJ Lawson                  NaN     NaN     NaN    NaN        NaN   \n",
       "Aaron Gordon             439.0   188.0    44.0   44.0      133.0   \n",
       "Aaron Holiday            122.0   153.0    42.0    9.0       67.0   \n",
       "...                        ...     ...     ...    ...        ...   \n",
       "Zach LaVine              308.0   303.0    41.0   23.0      171.0   \n",
       "Zeke Nnaji               147.0    17.0    16.0   13.0       23.0   \n",
       "Zhaire Smith               NaN     NaN     NaN    NaN        NaN   \n",
       "Ziaire Williams          129.0    65.0    35.0   12.0       41.0   \n",
       "Zion Williamson            NaN     NaN     NaN    NaN        NaN   \n",
       "\n",
       "                 Personal Fouls  Points  \n",
       "Player Name                              \n",
       "AJ Green                    NaN     NaN  \n",
       "AJ Griffin                  NaN     NaN  \n",
       "AJ Lawson                   NaN     NaN  \n",
       "Aaron Gordon              148.0  1126.0  \n",
       "Aaron Holiday              92.0   400.0  \n",
       "...                         ...     ...  \n",
       "Zach LaVine               120.0  1635.0  \n",
       "Zeke Nnaji                 79.0   270.0  \n",
       "Zhaire Smith                NaN     NaN  \n",
       "Ziaire Williams           113.0   501.0  \n",
       "Zion Williamson             NaN     NaN  \n",
       "\n",
       "[687 rows x 30 columns]"
      ]
     },
     "execution_count": 16,
     "metadata": {},
     "output_type": "execute_result"
    }
   ],
   "source": [
    "stats_sal = NBA_sal_df_clean.set_index('Player Name').join(NBA_player_stats_df_2022.set_index('Player Name'))\n",
    "stats_sal"
   ]
  },
  {
   "cell_type": "code",
   "execution_count": 17,
   "id": "a9630134",
   "metadata": {},
   "outputs": [],
   "source": [
    "stats_sal = stats_sal.reset_index(level=['Player Name'])"
   ]
  },
  {
   "cell_type": "markdown",
   "id": "70199de3",
   "metadata": {},
   "source": [
    "### Drop any features that are not useful for your model building and explain why they are not useful"
   ]
  },
  {
   "cell_type": "markdown",
   "id": "5ce55c65",
   "metadata": {},
   "source": [
    "Running correlation matrix to find variables with greater than 90% correlation and removing redundant data"
   ]
  },
  {
   "cell_type": "code",
   "execution_count": 18,
   "id": "b8919bb1",
   "metadata": {},
   "outputs": [],
   "source": [
    "stats_sal_corr = stats_sal.corr()"
   ]
  },
  {
   "cell_type": "code",
   "execution_count": 19,
   "id": "44905372",
   "metadata": {},
   "outputs": [
    {
     "data": {
      "text/plain": [
       "Steals          2P Percent       0.002791\n",
       "2P Percent      Steals           0.002791\n",
       "Total Rebound   3P Percent       0.005730\n",
       "3P Percent      Total Rebound    0.005730\n",
       "Turnovers       2P Percent       0.012473\n",
       "                                   ...   \n",
       "Steals          Season                NaN\n",
       "Block           Season                NaN\n",
       "Turnovers       Season                NaN\n",
       "Personal Fouls  Season                NaN\n",
       "Points          Season                NaN\n",
       "Length: 729, dtype: float64"
      ]
     },
     "execution_count": 19,
     "metadata": {},
     "output_type": "execute_result"
    }
   ],
   "source": [
    "unstacked_corr = stats_sal_corr.unstack()\n",
    "abs_unstacked_corr = unstacked_corr.abs()\n",
    "sorted_corr = abs_unstacked_corr.sort_values()\n",
    "sorted_corr"
   ]
  },
  {
   "cell_type": "code",
   "execution_count": 20,
   "id": "2c8f54d9",
   "metadata": {},
   "outputs": [
    {
     "data": {
      "text/plain": [
       "Free Throws            Points                   0.896784\n",
       "Turnovers              FG                       0.902176\n",
       "FG                     Turnovers                0.902176\n",
       "Turnovers              Assist                   0.902364\n",
       "Assist                 Turnovers                0.902364\n",
       "Turnovers              FG Attempted             0.906786\n",
       "FG Attempted           Turnovers                0.906786\n",
       "Turnovers              Points                   0.909679\n",
       "Points                 Turnovers                0.909679\n",
       "Minutes Played         Points                   0.917233\n",
       "Points                 Minutes Played           0.917233\n",
       "                       2P                       0.921467\n",
       "2P                     Points                   0.921467\n",
       "FG                     Minutes Played           0.921587\n",
       "Minutes Played         FG                       0.921587\n",
       "FG Attempted           Minutes Played           0.922815\n",
       "Minutes Played         FG Attempted             0.922815\n",
       "FG Attempted           2P Attempted             0.926424\n",
       "2P Attempted           FG Attempted             0.926424\n",
       "FG Percent             Effective FG             0.926588\n",
       "Effective FG           FG Percent               0.926588\n",
       "Points                 2P Attempted             0.941460\n",
       "2P Attempted           Points                   0.941460\n",
       "2P                     FG                       0.946314\n",
       "FG                     2P                       0.946314\n",
       "2P Attempted           FG                       0.959426\n",
       "FG                     2P Attempted             0.959426\n",
       "Total Rebound          Defensive Rebound        0.982087\n",
       "Defensive Rebound      Total Rebound            0.982087\n",
       "FG                     FG Attempted             0.984248\n",
       "FG Attempted           FG                       0.984248\n",
       "2P                     2P Attempted             0.987464\n",
       "2P Attempted           2P                       0.987464\n",
       "FG Attempted           Points                   0.988150\n",
       "Points                 FG Attempted             0.988150\n",
       "Free Throws            Free Throws Attempted    0.990226\n",
       "Free Throws Attempted  Free Throws              0.990226\n",
       "3P Attempted           3P                       0.991419\n",
       "3P                     3P Attempted             0.991419\n",
       "Points                 FG                       0.993748\n",
       "FG                     Points                   0.993748\n",
       "Age                    Age                      1.000000\n",
       "dtype: float64"
      ]
     },
     "execution_count": 20,
     "metadata": {},
     "output_type": "execute_result"
    }
   ],
   "source": [
    "sorted_corr[609:651]"
   ]
  },
  {
   "cell_type": "code",
   "execution_count": 21,
   "id": "9e8411cf",
   "metadata": {},
   "outputs": [],
   "source": [
    "# drop redundant columns\n",
    "stats_sal_essential = stats_sal.drop(['2P', '2P Attempted', '3P Attempted', 'Defensive Rebound', 'Effective FG', \n",
    "                                      'FG', 'FG Attempted', 'Free Throws Attempted', 'Minutes Played'], axis=1)"
   ]
  },
  {
   "cell_type": "markdown",
   "id": "ce6de32c",
   "metadata": {},
   "source": [
    "### Deal with missing data (do not just drop rows or columns without justifying this)."
   ]
  },
  {
   "cell_type": "markdown",
   "id": "440341a0",
   "metadata": {},
   "source": [
    "I will check if there are any players without salary.  If there are null values, I will fillna() with mean salary"
   ]
  },
  {
   "cell_type": "code",
   "execution_count": 22,
   "id": "9fe3a752",
   "metadata": {},
   "outputs": [
    {
     "data": {
      "text/html": [
       "<div>\n",
       "<style scoped>\n",
       "    .dataframe tbody tr th:only-of-type {\n",
       "        vertical-align: middle;\n",
       "    }\n",
       "\n",
       "    .dataframe tbody tr th {\n",
       "        vertical-align: top;\n",
       "    }\n",
       "\n",
       "    .dataframe thead th {\n",
       "        text-align: right;\n",
       "    }\n",
       "</style>\n",
       "<table border=\"1\" class=\"dataframe\">\n",
       "  <thead>\n",
       "    <tr style=\"text-align: right;\">\n",
       "      <th></th>\n",
       "      <th>Player Name</th>\n",
       "      <th>2022_Salary</th>\n",
       "      <th>Season</th>\n",
       "      <th>Position</th>\n",
       "      <th>Age</th>\n",
       "      <th>Team</th>\n",
       "      <th>Games Played</th>\n",
       "      <th>Games Started</th>\n",
       "      <th>FG Percent</th>\n",
       "      <th>3P</th>\n",
       "      <th>...</th>\n",
       "      <th>Free Throws</th>\n",
       "      <th>Free Throw Percent</th>\n",
       "      <th>Offensive Rebound</th>\n",
       "      <th>Total Rebound</th>\n",
       "      <th>Assist</th>\n",
       "      <th>Steals</th>\n",
       "      <th>Block</th>\n",
       "      <th>Turnovers</th>\n",
       "      <th>Personal Fouls</th>\n",
       "      <th>Points</th>\n",
       "    </tr>\n",
       "  </thead>\n",
       "  <tbody>\n",
       "  </tbody>\n",
       "</table>\n",
       "<p>0 rows × 22 columns</p>\n",
       "</div>"
      ],
      "text/plain": [
       "Empty DataFrame\n",
       "Columns: [Player Name, 2022_Salary, Season, Position, Age, Team, Games Played, Games Started, FG Percent, 3P, 3P Percent, 2P Percent, Free Throws, Free Throw Percent, Offensive Rebound, Total Rebound, Assist, Steals, Block, Turnovers, Personal Fouls, Points]\n",
       "Index: []\n",
       "\n",
       "[0 rows x 22 columns]"
      ]
     },
     "execution_count": 22,
     "metadata": {},
     "output_type": "execute_result"
    }
   ],
   "source": [
    "stats_sal_essential[stats_sal_essential['2022_Salary'].isnull()]"
   ]
  },
  {
   "cell_type": "markdown",
   "id": "1c1309c4",
   "metadata": {},
   "source": [
    "There are no null salaries for 2022."
   ]
  },
  {
   "cell_type": "markdown",
   "id": "0f48bccb",
   "metadata": {},
   "source": [
    "I am dropping rows where I only had player salary and do not have any of their stats as we cannot determine if they are a good player or not."
   ]
  },
  {
   "cell_type": "code",
   "execution_count": 23,
   "id": "24436499",
   "metadata": {},
   "outputs": [
    {
     "data": {
      "text/html": [
       "<div>\n",
       "<style scoped>\n",
       "    .dataframe tbody tr th:only-of-type {\n",
       "        vertical-align: middle;\n",
       "    }\n",
       "\n",
       "    .dataframe tbody tr th {\n",
       "        vertical-align: top;\n",
       "    }\n",
       "\n",
       "    .dataframe thead th {\n",
       "        text-align: right;\n",
       "    }\n",
       "</style>\n",
       "<table border=\"1\" class=\"dataframe\">\n",
       "  <thead>\n",
       "    <tr style=\"text-align: right;\">\n",
       "      <th></th>\n",
       "      <th>Player Name</th>\n",
       "      <th>2022_Salary</th>\n",
       "      <th>Season</th>\n",
       "      <th>Position</th>\n",
       "      <th>Age</th>\n",
       "      <th>Team</th>\n",
       "      <th>Games Played</th>\n",
       "      <th>Games Started</th>\n",
       "      <th>FG Percent</th>\n",
       "      <th>3P</th>\n",
       "      <th>...</th>\n",
       "      <th>Free Throws</th>\n",
       "      <th>Free Throw Percent</th>\n",
       "      <th>Offensive Rebound</th>\n",
       "      <th>Total Rebound</th>\n",
       "      <th>Assist</th>\n",
       "      <th>Steals</th>\n",
       "      <th>Block</th>\n",
       "      <th>Turnovers</th>\n",
       "      <th>Personal Fouls</th>\n",
       "      <th>Points</th>\n",
       "    </tr>\n",
       "  </thead>\n",
       "  <tbody>\n",
       "    <tr>\n",
       "      <th>0</th>\n",
       "      <td>AJ Green</td>\n",
       "      <td>$508,891</td>\n",
       "      <td>NaN</td>\n",
       "      <td>NaN</td>\n",
       "      <td>NaN</td>\n",
       "      <td>NaN</td>\n",
       "      <td>NaN</td>\n",
       "      <td>NaN</td>\n",
       "      <td>NaN</td>\n",
       "      <td>NaN</td>\n",
       "      <td>...</td>\n",
       "      <td>NaN</td>\n",
       "      <td>NaN</td>\n",
       "      <td>NaN</td>\n",
       "      <td>NaN</td>\n",
       "      <td>NaN</td>\n",
       "      <td>NaN</td>\n",
       "      <td>NaN</td>\n",
       "      <td>NaN</td>\n",
       "      <td>NaN</td>\n",
       "      <td>NaN</td>\n",
       "    </tr>\n",
       "    <tr>\n",
       "      <th>1</th>\n",
       "      <td>AJ Griffin</td>\n",
       "      <td>$3,536,160</td>\n",
       "      <td>NaN</td>\n",
       "      <td>NaN</td>\n",
       "      <td>NaN</td>\n",
       "      <td>NaN</td>\n",
       "      <td>NaN</td>\n",
       "      <td>NaN</td>\n",
       "      <td>NaN</td>\n",
       "      <td>NaN</td>\n",
       "      <td>...</td>\n",
       "      <td>NaN</td>\n",
       "      <td>NaN</td>\n",
       "      <td>NaN</td>\n",
       "      <td>NaN</td>\n",
       "      <td>NaN</td>\n",
       "      <td>NaN</td>\n",
       "      <td>NaN</td>\n",
       "      <td>NaN</td>\n",
       "      <td>NaN</td>\n",
       "      <td>NaN</td>\n",
       "    </tr>\n",
       "    <tr>\n",
       "      <th>2</th>\n",
       "      <td>AJ Lawson</td>\n",
       "      <td>$371,432</td>\n",
       "      <td>NaN</td>\n",
       "      <td>NaN</td>\n",
       "      <td>NaN</td>\n",
       "      <td>NaN</td>\n",
       "      <td>NaN</td>\n",
       "      <td>NaN</td>\n",
       "      <td>NaN</td>\n",
       "      <td>NaN</td>\n",
       "      <td>...</td>\n",
       "      <td>NaN</td>\n",
       "      <td>NaN</td>\n",
       "      <td>NaN</td>\n",
       "      <td>NaN</td>\n",
       "      <td>NaN</td>\n",
       "      <td>NaN</td>\n",
       "      <td>NaN</td>\n",
       "      <td>NaN</td>\n",
       "      <td>NaN</td>\n",
       "      <td>NaN</td>\n",
       "    </tr>\n",
       "    <tr>\n",
       "      <th>19</th>\n",
       "      <td>Alondes Williams</td>\n",
       "      <td>$254,446</td>\n",
       "      <td>NaN</td>\n",
       "      <td>NaN</td>\n",
       "      <td>NaN</td>\n",
       "      <td>NaN</td>\n",
       "      <td>NaN</td>\n",
       "      <td>NaN</td>\n",
       "      <td>NaN</td>\n",
       "      <td>NaN</td>\n",
       "      <td>...</td>\n",
       "      <td>NaN</td>\n",
       "      <td>NaN</td>\n",
       "      <td>NaN</td>\n",
       "      <td>NaN</td>\n",
       "      <td>NaN</td>\n",
       "      <td>NaN</td>\n",
       "      <td>NaN</td>\n",
       "      <td>NaN</td>\n",
       "      <td>NaN</td>\n",
       "      <td>NaN</td>\n",
       "    </tr>\n",
       "    <tr>\n",
       "      <th>20</th>\n",
       "      <td>Alperen Sengun</td>\n",
       "      <td>$3,375,360</td>\n",
       "      <td>NaN</td>\n",
       "      <td>NaN</td>\n",
       "      <td>NaN</td>\n",
       "      <td>NaN</td>\n",
       "      <td>NaN</td>\n",
       "      <td>NaN</td>\n",
       "      <td>NaN</td>\n",
       "      <td>NaN</td>\n",
       "      <td>...</td>\n",
       "      <td>NaN</td>\n",
       "      <td>NaN</td>\n",
       "      <td>NaN</td>\n",
       "      <td>NaN</td>\n",
       "      <td>NaN</td>\n",
       "      <td>NaN</td>\n",
       "      <td>NaN</td>\n",
       "      <td>NaN</td>\n",
       "      <td>NaN</td>\n",
       "      <td>NaN</td>\n",
       "    </tr>\n",
       "    <tr>\n",
       "      <th>...</th>\n",
       "      <td>...</td>\n",
       "      <td>...</td>\n",
       "      <td>...</td>\n",
       "      <td>...</td>\n",
       "      <td>...</td>\n",
       "      <td>...</td>\n",
       "      <td>...</td>\n",
       "      <td>...</td>\n",
       "      <td>...</td>\n",
       "      <td>...</td>\n",
       "      <td>...</td>\n",
       "      <td>...</td>\n",
       "      <td>...</td>\n",
       "      <td>...</td>\n",
       "      <td>...</td>\n",
       "      <td>...</td>\n",
       "      <td>...</td>\n",
       "      <td>...</td>\n",
       "      <td>...</td>\n",
       "      <td>...</td>\n",
       "      <td>...</td>\n",
       "    </tr>\n",
       "    <tr>\n",
       "      <th>673</th>\n",
       "      <td>Willy Hernangomez</td>\n",
       "      <td>$2,443,581</td>\n",
       "      <td>NaN</td>\n",
       "      <td>NaN</td>\n",
       "      <td>NaN</td>\n",
       "      <td>NaN</td>\n",
       "      <td>NaN</td>\n",
       "      <td>NaN</td>\n",
       "      <td>NaN</td>\n",
       "      <td>NaN</td>\n",
       "      <td>...</td>\n",
       "      <td>NaN</td>\n",
       "      <td>NaN</td>\n",
       "      <td>NaN</td>\n",
       "      <td>NaN</td>\n",
       "      <td>NaN</td>\n",
       "      <td>NaN</td>\n",
       "      <td>NaN</td>\n",
       "      <td>NaN</td>\n",
       "      <td>NaN</td>\n",
       "      <td>NaN</td>\n",
       "    </tr>\n",
       "    <tr>\n",
       "      <th>674</th>\n",
       "      <td>Xavier Cooks</td>\n",
       "      <td>$140,384</td>\n",
       "      <td>NaN</td>\n",
       "      <td>NaN</td>\n",
       "      <td>NaN</td>\n",
       "      <td>NaN</td>\n",
       "      <td>NaN</td>\n",
       "      <td>NaN</td>\n",
       "      <td>NaN</td>\n",
       "      <td>NaN</td>\n",
       "      <td>...</td>\n",
       "      <td>NaN</td>\n",
       "      <td>NaN</td>\n",
       "      <td>NaN</td>\n",
       "      <td>NaN</td>\n",
       "      <td>NaN</td>\n",
       "      <td>NaN</td>\n",
       "      <td>NaN</td>\n",
       "      <td>NaN</td>\n",
       "      <td>NaN</td>\n",
       "      <td>NaN</td>\n",
       "    </tr>\n",
       "    <tr>\n",
       "      <th>679</th>\n",
       "      <td>Xavier Tillman</td>\n",
       "      <td>$1,782,621</td>\n",
       "      <td>NaN</td>\n",
       "      <td>NaN</td>\n",
       "      <td>NaN</td>\n",
       "      <td>NaN</td>\n",
       "      <td>NaN</td>\n",
       "      <td>NaN</td>\n",
       "      <td>NaN</td>\n",
       "      <td>NaN</td>\n",
       "      <td>...</td>\n",
       "      <td>NaN</td>\n",
       "      <td>NaN</td>\n",
       "      <td>NaN</td>\n",
       "      <td>NaN</td>\n",
       "      <td>NaN</td>\n",
       "      <td>NaN</td>\n",
       "      <td>NaN</td>\n",
       "      <td>NaN</td>\n",
       "      <td>NaN</td>\n",
       "      <td>NaN</td>\n",
       "    </tr>\n",
       "    <tr>\n",
       "      <th>684</th>\n",
       "      <td>Zhaire Smith</td>\n",
       "      <td>$1,068,200</td>\n",
       "      <td>NaN</td>\n",
       "      <td>NaN</td>\n",
       "      <td>NaN</td>\n",
       "      <td>NaN</td>\n",
       "      <td>NaN</td>\n",
       "      <td>NaN</td>\n",
       "      <td>NaN</td>\n",
       "      <td>NaN</td>\n",
       "      <td>...</td>\n",
       "      <td>NaN</td>\n",
       "      <td>NaN</td>\n",
       "      <td>NaN</td>\n",
       "      <td>NaN</td>\n",
       "      <td>NaN</td>\n",
       "      <td>NaN</td>\n",
       "      <td>NaN</td>\n",
       "      <td>NaN</td>\n",
       "      <td>NaN</td>\n",
       "      <td>NaN</td>\n",
       "    </tr>\n",
       "    <tr>\n",
       "      <th>686</th>\n",
       "      <td>Zion Williamson</td>\n",
       "      <td>$13,534,817</td>\n",
       "      <td>NaN</td>\n",
       "      <td>NaN</td>\n",
       "      <td>NaN</td>\n",
       "      <td>NaN</td>\n",
       "      <td>NaN</td>\n",
       "      <td>NaN</td>\n",
       "      <td>NaN</td>\n",
       "      <td>NaN</td>\n",
       "      <td>...</td>\n",
       "      <td>NaN</td>\n",
       "      <td>NaN</td>\n",
       "      <td>NaN</td>\n",
       "      <td>NaN</td>\n",
       "      <td>NaN</td>\n",
       "      <td>NaN</td>\n",
       "      <td>NaN</td>\n",
       "      <td>NaN</td>\n",
       "      <td>NaN</td>\n",
       "      <td>NaN</td>\n",
       "    </tr>\n",
       "  </tbody>\n",
       "</table>\n",
       "<p>178 rows × 22 columns</p>\n",
       "</div>"
      ],
      "text/plain": [
       "           Player Name   2022_Salary  Season Position  Age Team  Games Played  \\\n",
       "0             AJ Green     $508,891      NaN      NaN  NaN  NaN           NaN   \n",
       "1           AJ Griffin   $3,536,160      NaN      NaN  NaN  NaN           NaN   \n",
       "2            AJ Lawson     $371,432      NaN      NaN  NaN  NaN           NaN   \n",
       "19    Alondes Williams     $254,446      NaN      NaN  NaN  NaN           NaN   \n",
       "20      Alperen Sengun   $3,375,360      NaN      NaN  NaN  NaN           NaN   \n",
       "..                 ...           ...     ...      ...  ...  ...           ...   \n",
       "673  Willy Hernangomez   $2,443,581      NaN      NaN  NaN  NaN           NaN   \n",
       "674       Xavier Cooks     $140,384      NaN      NaN  NaN  NaN           NaN   \n",
       "679     Xavier Tillman   $1,782,621      NaN      NaN  NaN  NaN           NaN   \n",
       "684       Zhaire Smith   $1,068,200      NaN      NaN  NaN  NaN           NaN   \n",
       "686    Zion Williamson  $13,534,817      NaN      NaN  NaN  NaN           NaN   \n",
       "\n",
       "     Games Started  FG Percent  3P  ...  Free Throws  Free Throw Percent  \\\n",
       "0              NaN         NaN NaN  ...          NaN                 NaN   \n",
       "1              NaN         NaN NaN  ...          NaN                 NaN   \n",
       "2              NaN         NaN NaN  ...          NaN                 NaN   \n",
       "19             NaN         NaN NaN  ...          NaN                 NaN   \n",
       "20             NaN         NaN NaN  ...          NaN                 NaN   \n",
       "..             ...         ...  ..  ...          ...                 ...   \n",
       "673            NaN         NaN NaN  ...          NaN                 NaN   \n",
       "674            NaN         NaN NaN  ...          NaN                 NaN   \n",
       "679            NaN         NaN NaN  ...          NaN                 NaN   \n",
       "684            NaN         NaN NaN  ...          NaN                 NaN   \n",
       "686            NaN         NaN NaN  ...          NaN                 NaN   \n",
       "\n",
       "     Offensive Rebound  Total Rebound  Assist  Steals  Block  Turnovers  \\\n",
       "0                  NaN            NaN     NaN     NaN    NaN        NaN   \n",
       "1                  NaN            NaN     NaN     NaN    NaN        NaN   \n",
       "2                  NaN            NaN     NaN     NaN    NaN        NaN   \n",
       "19                 NaN            NaN     NaN     NaN    NaN        NaN   \n",
       "20                 NaN            NaN     NaN     NaN    NaN        NaN   \n",
       "..                 ...            ...     ...     ...    ...        ...   \n",
       "673                NaN            NaN     NaN     NaN    NaN        NaN   \n",
       "674                NaN            NaN     NaN     NaN    NaN        NaN   \n",
       "679                NaN            NaN     NaN     NaN    NaN        NaN   \n",
       "684                NaN            NaN     NaN     NaN    NaN        NaN   \n",
       "686                NaN            NaN     NaN     NaN    NaN        NaN   \n",
       "\n",
       "     Personal Fouls  Points  \n",
       "0               NaN     NaN  \n",
       "1               NaN     NaN  \n",
       "2               NaN     NaN  \n",
       "19              NaN     NaN  \n",
       "20              NaN     NaN  \n",
       "..              ...     ...  \n",
       "673             NaN     NaN  \n",
       "674             NaN     NaN  \n",
       "679             NaN     NaN  \n",
       "684             NaN     NaN  \n",
       "686             NaN     NaN  \n",
       "\n",
       "[178 rows x 22 columns]"
      ]
     },
     "execution_count": 23,
     "metadata": {},
     "output_type": "execute_result"
    }
   ],
   "source": [
    "stats_sal_essential[stats_sal_essential['Season'].isnull()]"
   ]
  },
  {
   "cell_type": "code",
   "execution_count": 24,
   "id": "5712fc1a",
   "metadata": {},
   "outputs": [],
   "source": [
    "stats_sal_essential.dropna(subset=['Season'], inplace=True)"
   ]
  },
  {
   "cell_type": "code",
   "execution_count": 25,
   "id": "94c76cac",
   "metadata": {},
   "outputs": [
    {
     "data": {
      "text/html": [
       "<div>\n",
       "<style scoped>\n",
       "    .dataframe tbody tr th:only-of-type {\n",
       "        vertical-align: middle;\n",
       "    }\n",
       "\n",
       "    .dataframe tbody tr th {\n",
       "        vertical-align: top;\n",
       "    }\n",
       "\n",
       "    .dataframe thead th {\n",
       "        text-align: right;\n",
       "    }\n",
       "</style>\n",
       "<table border=\"1\" class=\"dataframe\">\n",
       "  <thead>\n",
       "    <tr style=\"text-align: right;\">\n",
       "      <th></th>\n",
       "      <th>Player Name</th>\n",
       "      <th>2022_Salary</th>\n",
       "      <th>Season</th>\n",
       "      <th>Position</th>\n",
       "      <th>Age</th>\n",
       "      <th>Team</th>\n",
       "      <th>Games Played</th>\n",
       "      <th>Games Started</th>\n",
       "      <th>FG Percent</th>\n",
       "      <th>3P</th>\n",
       "      <th>...</th>\n",
       "      <th>Free Throws</th>\n",
       "      <th>Free Throw Percent</th>\n",
       "      <th>Offensive Rebound</th>\n",
       "      <th>Total Rebound</th>\n",
       "      <th>Assist</th>\n",
       "      <th>Steals</th>\n",
       "      <th>Block</th>\n",
       "      <th>Turnovers</th>\n",
       "      <th>Personal Fouls</th>\n",
       "      <th>Points</th>\n",
       "    </tr>\n",
       "  </thead>\n",
       "  <tbody>\n",
       "  </tbody>\n",
       "</table>\n",
       "<p>0 rows × 22 columns</p>\n",
       "</div>"
      ],
      "text/plain": [
       "Empty DataFrame\n",
       "Columns: [Player Name, 2022_Salary, Season, Position, Age, Team, Games Played, Games Started, FG Percent, 3P, 3P Percent, 2P Percent, Free Throws, Free Throw Percent, Offensive Rebound, Total Rebound, Assist, Steals, Block, Turnovers, Personal Fouls, Points]\n",
       "Index: []\n",
       "\n",
       "[0 rows x 22 columns]"
      ]
     },
     "execution_count": 25,
     "metadata": {},
     "output_type": "execute_result"
    }
   ],
   "source": [
    "stats_sal_essential[stats_sal_essential['Season'].isnull()]"
   ]
  },
  {
   "cell_type": "markdown",
   "id": "e0cec0e8",
   "metadata": {},
   "source": [
    "### Create dummy variables if necessary."
   ]
  },
  {
   "cell_type": "markdown",
   "id": "aadd591c",
   "metadata": {},
   "source": [
    "Instead of focusing on the specific player, I want to focus on their stats.  If I created dummies on Player Name it would be 500+ columns added. I will create dummies for position and team."
   ]
  },
  {
   "cell_type": "code",
   "execution_count": 26,
   "id": "7d328153",
   "metadata": {},
   "outputs": [],
   "source": [
    "stats_sal_no_names = stats_sal_essential.drop(['Player Name'], axis=1)"
   ]
  },
  {
   "cell_type": "code",
   "execution_count": 27,
   "id": "a4cefa60",
   "metadata": {},
   "outputs": [],
   "source": [
    "stats_sal_dummies = pd.get_dummies(stats_sal_no_names, prefix=['Position', 'Team'], columns=['Position', 'Team'])"
   ]
  },
  {
   "cell_type": "code",
   "execution_count": 28,
   "id": "8c65f50b",
   "metadata": {},
   "outputs": [
    {
     "data": {
      "text/html": [
       "<div>\n",
       "<style scoped>\n",
       "    .dataframe tbody tr th:only-of-type {\n",
       "        vertical-align: middle;\n",
       "    }\n",
       "\n",
       "    .dataframe tbody tr th {\n",
       "        vertical-align: top;\n",
       "    }\n",
       "\n",
       "    .dataframe thead th {\n",
       "        text-align: right;\n",
       "    }\n",
       "</style>\n",
       "<table border=\"1\" class=\"dataframe\">\n",
       "  <thead>\n",
       "    <tr style=\"text-align: right;\">\n",
       "      <th></th>\n",
       "      <th>2022_Salary</th>\n",
       "      <th>Season</th>\n",
       "      <th>Age</th>\n",
       "      <th>Games Played</th>\n",
       "      <th>Games Started</th>\n",
       "      <th>FG Percent</th>\n",
       "      <th>3P</th>\n",
       "      <th>3P Percent</th>\n",
       "      <th>2P Percent</th>\n",
       "      <th>Free Throws</th>\n",
       "      <th>...</th>\n",
       "      <th>Team_ORL</th>\n",
       "      <th>Team_PHI</th>\n",
       "      <th>Team_PHO</th>\n",
       "      <th>Team_POR</th>\n",
       "      <th>Team_SAC</th>\n",
       "      <th>Team_SAS</th>\n",
       "      <th>Team_TOR</th>\n",
       "      <th>Team_TOT</th>\n",
       "      <th>Team_UTA</th>\n",
       "      <th>Team_WAS</th>\n",
       "    </tr>\n",
       "  </thead>\n",
       "  <tbody>\n",
       "    <tr>\n",
       "      <th>3</th>\n",
       "      <td>$19,690,909</td>\n",
       "      <td>2022.0</td>\n",
       "      <td>26.0</td>\n",
       "      <td>75.0</td>\n",
       "      <td>75.0</td>\n",
       "      <td>0.520</td>\n",
       "      <td>87.0</td>\n",
       "      <td>0.335</td>\n",
       "      <td>0.605</td>\n",
       "      <td>171.0</td>\n",
       "      <td>...</td>\n",
       "      <td>0</td>\n",
       "      <td>0</td>\n",
       "      <td>0</td>\n",
       "      <td>0</td>\n",
       "      <td>0</td>\n",
       "      <td>0</td>\n",
       "      <td>0</td>\n",
       "      <td>0</td>\n",
       "      <td>0</td>\n",
       "      <td>0</td>\n",
       "    </tr>\n",
       "    <tr>\n",
       "      <th>4</th>\n",
       "      <td>$1,968,175</td>\n",
       "      <td>2022.0</td>\n",
       "      <td>25.0</td>\n",
       "      <td>63.0</td>\n",
       "      <td>15.0</td>\n",
       "      <td>0.447</td>\n",
       "      <td>39.0</td>\n",
       "      <td>0.379</td>\n",
       "      <td>0.477</td>\n",
       "      <td>59.0</td>\n",
       "      <td>...</td>\n",
       "      <td>0</td>\n",
       "      <td>0</td>\n",
       "      <td>0</td>\n",
       "      <td>0</td>\n",
       "      <td>0</td>\n",
       "      <td>0</td>\n",
       "      <td>0</td>\n",
       "      <td>1</td>\n",
       "      <td>0</td>\n",
       "      <td>0</td>\n",
       "    </tr>\n",
       "    <tr>\n",
       "      <th>5</th>\n",
       "      <td>$1,968,175</td>\n",
       "      <td>2022.0</td>\n",
       "      <td>25.0</td>\n",
       "      <td>41.0</td>\n",
       "      <td>14.0</td>\n",
       "      <td>0.467</td>\n",
       "      <td>23.0</td>\n",
       "      <td>0.343</td>\n",
       "      <td>0.524</td>\n",
       "      <td>28.0</td>\n",
       "      <td>...</td>\n",
       "      <td>0</td>\n",
       "      <td>0</td>\n",
       "      <td>0</td>\n",
       "      <td>0</td>\n",
       "      <td>0</td>\n",
       "      <td>0</td>\n",
       "      <td>0</td>\n",
       "      <td>0</td>\n",
       "      <td>0</td>\n",
       "      <td>1</td>\n",
       "    </tr>\n",
       "    <tr>\n",
       "      <th>6</th>\n",
       "      <td>$1,968,175</td>\n",
       "      <td>2022.0</td>\n",
       "      <td>25.0</td>\n",
       "      <td>22.0</td>\n",
       "      <td>1.0</td>\n",
       "      <td>0.411</td>\n",
       "      <td>16.0</td>\n",
       "      <td>0.444</td>\n",
       "      <td>0.398</td>\n",
       "      <td>31.0</td>\n",
       "      <td>...</td>\n",
       "      <td>0</td>\n",
       "      <td>0</td>\n",
       "      <td>1</td>\n",
       "      <td>0</td>\n",
       "      <td>0</td>\n",
       "      <td>0</td>\n",
       "      <td>0</td>\n",
       "      <td>0</td>\n",
       "      <td>0</td>\n",
       "      <td>0</td>\n",
       "    </tr>\n",
       "    <tr>\n",
       "      <th>7</th>\n",
       "      <td>$3,804,360</td>\n",
       "      <td>2022.0</td>\n",
       "      <td>22.0</td>\n",
       "      <td>52.0</td>\n",
       "      <td>3.0</td>\n",
       "      <td>0.396</td>\n",
       "      <td>31.0</td>\n",
       "      <td>0.270</td>\n",
       "      <td>0.612</td>\n",
       "      <td>21.0</td>\n",
       "      <td>...</td>\n",
       "      <td>0</td>\n",
       "      <td>0</td>\n",
       "      <td>0</td>\n",
       "      <td>0</td>\n",
       "      <td>0</td>\n",
       "      <td>0</td>\n",
       "      <td>0</td>\n",
       "      <td>0</td>\n",
       "      <td>0</td>\n",
       "      <td>0</td>\n",
       "    </tr>\n",
       "    <tr>\n",
       "      <th>...</th>\n",
       "      <td>...</td>\n",
       "      <td>...</td>\n",
       "      <td>...</td>\n",
       "      <td>...</td>\n",
       "      <td>...</td>\n",
       "      <td>...</td>\n",
       "      <td>...</td>\n",
       "      <td>...</td>\n",
       "      <td>...</td>\n",
       "      <td>...</td>\n",
       "      <td>...</td>\n",
       "      <td>...</td>\n",
       "      <td>...</td>\n",
       "      <td>...</td>\n",
       "      <td>...</td>\n",
       "      <td>...</td>\n",
       "      <td>...</td>\n",
       "      <td>...</td>\n",
       "      <td>...</td>\n",
       "      <td>...</td>\n",
       "      <td>...</td>\n",
       "    </tr>\n",
       "    <tr>\n",
       "      <th>680</th>\n",
       "      <td>$1,968,175</td>\n",
       "      <td>2022.0</td>\n",
       "      <td>27.0</td>\n",
       "      <td>38.0</td>\n",
       "      <td>4.0</td>\n",
       "      <td>0.406</td>\n",
       "      <td>27.0</td>\n",
       "      <td>0.342</td>\n",
       "      <td>0.492</td>\n",
       "      <td>24.0</td>\n",
       "      <td>...</td>\n",
       "      <td>0</td>\n",
       "      <td>0</td>\n",
       "      <td>0</td>\n",
       "      <td>0</td>\n",
       "      <td>0</td>\n",
       "      <td>0</td>\n",
       "      <td>1</td>\n",
       "      <td>0</td>\n",
       "      <td>0</td>\n",
       "      <td>0</td>\n",
       "    </tr>\n",
       "    <tr>\n",
       "      <th>681</th>\n",
       "      <td>$7,350,000</td>\n",
       "      <td>2022.0</td>\n",
       "      <td>24.0</td>\n",
       "      <td>28.0</td>\n",
       "      <td>4.0</td>\n",
       "      <td>0.490</td>\n",
       "      <td>14.0</td>\n",
       "      <td>0.341</td>\n",
       "      <td>0.544</td>\n",
       "      <td>52.0</td>\n",
       "      <td>...</td>\n",
       "      <td>0</td>\n",
       "      <td>0</td>\n",
       "      <td>0</td>\n",
       "      <td>0</td>\n",
       "      <td>0</td>\n",
       "      <td>1</td>\n",
       "      <td>0</td>\n",
       "      <td>0</td>\n",
       "      <td>0</td>\n",
       "      <td>0</td>\n",
       "    </tr>\n",
       "    <tr>\n",
       "      <th>682</th>\n",
       "      <td>$37,096,500</td>\n",
       "      <td>2022.0</td>\n",
       "      <td>26.0</td>\n",
       "      <td>67.0</td>\n",
       "      <td>67.0</td>\n",
       "      <td>0.476</td>\n",
       "      <td>185.0</td>\n",
       "      <td>0.389</td>\n",
       "      <td>0.534</td>\n",
       "      <td>320.0</td>\n",
       "      <td>...</td>\n",
       "      <td>0</td>\n",
       "      <td>0</td>\n",
       "      <td>0</td>\n",
       "      <td>0</td>\n",
       "      <td>0</td>\n",
       "      <td>0</td>\n",
       "      <td>0</td>\n",
       "      <td>0</td>\n",
       "      <td>0</td>\n",
       "      <td>0</td>\n",
       "    </tr>\n",
       "    <tr>\n",
       "      <th>683</th>\n",
       "      <td>$2,617,800</td>\n",
       "      <td>2022.0</td>\n",
       "      <td>21.0</td>\n",
       "      <td>41.0</td>\n",
       "      <td>1.0</td>\n",
       "      <td>0.516</td>\n",
       "      <td>37.0</td>\n",
       "      <td>0.463</td>\n",
       "      <td>0.557</td>\n",
       "      <td>41.0</td>\n",
       "      <td>...</td>\n",
       "      <td>0</td>\n",
       "      <td>0</td>\n",
       "      <td>0</td>\n",
       "      <td>0</td>\n",
       "      <td>0</td>\n",
       "      <td>0</td>\n",
       "      <td>0</td>\n",
       "      <td>0</td>\n",
       "      <td>0</td>\n",
       "      <td>0</td>\n",
       "    </tr>\n",
       "    <tr>\n",
       "      <th>685</th>\n",
       "      <td>$4,591,680</td>\n",
       "      <td>2022.0</td>\n",
       "      <td>20.0</td>\n",
       "      <td>62.0</td>\n",
       "      <td>31.0</td>\n",
       "      <td>0.450</td>\n",
       "      <td>76.0</td>\n",
       "      <td>0.314</td>\n",
       "      <td>0.632</td>\n",
       "      <td>43.0</td>\n",
       "      <td>...</td>\n",
       "      <td>0</td>\n",
       "      <td>0</td>\n",
       "      <td>0</td>\n",
       "      <td>0</td>\n",
       "      <td>0</td>\n",
       "      <td>0</td>\n",
       "      <td>0</td>\n",
       "      <td>0</td>\n",
       "      <td>0</td>\n",
       "      <td>0</td>\n",
       "    </tr>\n",
       "  </tbody>\n",
       "</table>\n",
       "<p>509 rows × 58 columns</p>\n",
       "</div>"
      ],
      "text/plain": [
       "      2022_Salary  Season   Age  Games Played  Games Started  FG Percent  \\\n",
       "3    $19,690,909   2022.0  26.0          75.0           75.0       0.520   \n",
       "4     $1,968,175   2022.0  25.0          63.0           15.0       0.447   \n",
       "5     $1,968,175   2022.0  25.0          41.0           14.0       0.467   \n",
       "6     $1,968,175   2022.0  25.0          22.0            1.0       0.411   \n",
       "7     $3,804,360   2022.0  22.0          52.0            3.0       0.396   \n",
       "..            ...     ...   ...           ...            ...         ...   \n",
       "680   $1,968,175   2022.0  27.0          38.0            4.0       0.406   \n",
       "681   $7,350,000   2022.0  24.0          28.0            4.0       0.490   \n",
       "682  $37,096,500   2022.0  26.0          67.0           67.0       0.476   \n",
       "683   $2,617,800   2022.0  21.0          41.0            1.0       0.516   \n",
       "685   $4,591,680   2022.0  20.0          62.0           31.0       0.450   \n",
       "\n",
       "        3P  3P Percent  2P Percent  Free Throws  ...  Team_ORL  Team_PHI  \\\n",
       "3     87.0       0.335       0.605        171.0  ...         0         0   \n",
       "4     39.0       0.379       0.477         59.0  ...         0         0   \n",
       "5     23.0       0.343       0.524         28.0  ...         0         0   \n",
       "6     16.0       0.444       0.398         31.0  ...         0         0   \n",
       "7     31.0       0.270       0.612         21.0  ...         0         0   \n",
       "..     ...         ...         ...          ...  ...       ...       ...   \n",
       "680   27.0       0.342       0.492         24.0  ...         0         0   \n",
       "681   14.0       0.341       0.544         52.0  ...         0         0   \n",
       "682  185.0       0.389       0.534        320.0  ...         0         0   \n",
       "683   37.0       0.463       0.557         41.0  ...         0         0   \n",
       "685   76.0       0.314       0.632         43.0  ...         0         0   \n",
       "\n",
       "     Team_PHO  Team_POR  Team_SAC  Team_SAS  Team_TOR  Team_TOT  Team_UTA  \\\n",
       "3           0         0         0         0         0         0         0   \n",
       "4           0         0         0         0         0         1         0   \n",
       "5           0         0         0         0         0         0         0   \n",
       "6           1         0         0         0         0         0         0   \n",
       "7           0         0         0         0         0         0         0   \n",
       "..        ...       ...       ...       ...       ...       ...       ...   \n",
       "680         0         0         0         0         1         0         0   \n",
       "681         0         0         0         1         0         0         0   \n",
       "682         0         0         0         0         0         0         0   \n",
       "683         0         0         0         0         0         0         0   \n",
       "685         0         0         0         0         0         0         0   \n",
       "\n",
       "     Team_WAS  \n",
       "3           0  \n",
       "4           0  \n",
       "5           1  \n",
       "6           0  \n",
       "7           0  \n",
       "..        ...  \n",
       "680         0  \n",
       "681         0  \n",
       "682         0  \n",
       "683         0  \n",
       "685         0  \n",
       "\n",
       "[509 rows x 58 columns]"
      ]
     },
     "execution_count": 28,
     "metadata": {},
     "output_type": "execute_result"
    }
   ],
   "source": [
    "stats_sal_dummies"
   ]
  },
  {
   "cell_type": "markdown",
   "id": "a13467a0",
   "metadata": {},
   "source": [
    "### Futher cleaning"
   ]
  },
  {
   "cell_type": "code",
   "execution_count": 29,
   "id": "8d4de8f6",
   "metadata": {},
   "outputs": [],
   "source": [
    "# salary is currently in a string, convert it to a number\n",
    "stats_sal_dummies['2022_Salary'] = stats_sal_dummies['2022_Salary'].str.replace('$','', regex=True)\n",
    "stats_sal_dummies['2022_Salary'] = stats_sal_dummies['2022_Salary'].str.replace(',','', regex=True)\n",
    "stats_sal_dummies['2022_Salary'] = pd.to_numeric(stats_sal_dummies['2022_Salary'])"
   ]
  },
  {
   "cell_type": "code",
   "execution_count": 30,
   "id": "8a3766c2",
   "metadata": {},
   "outputs": [
    {
     "data": {
      "text/plain": [
       "FG Percent             4\n",
       "3P Percent            30\n",
       "2P Percent            10\n",
       "Free Throw Percent    31\n",
       "dtype: int64"
      ]
     },
     "execution_count": 30,
     "metadata": {},
     "output_type": "execute_result"
    }
   ],
   "source": [
    "# find columns with na values\n",
    "na_counts = stats_sal_dummies.isna().sum()\n",
    "na_counts[na_counts>0] # na counts greater than zero"
   ]
  },
  {
   "cell_type": "code",
   "execution_count": 31,
   "id": "cd256b8c",
   "metadata": {},
   "outputs": [],
   "source": [
    "stats_sal_dummies['FG Percent'] = stats_sal_dummies['FG Percent'].fillna(stats_sal_dummies['FG Percent'].median())\n",
    "stats_sal_dummies['3P Percent'] = stats_sal_dummies['3P Percent'].fillna(stats_sal_dummies['3P Percent'].median())\n",
    "stats_sal_dummies['2P Percent'] = stats_sal_dummies['2P Percent'].fillna(stats_sal_dummies['2P Percent'].median())\n",
    "stats_sal_dummies['Free Throw Percent'] = stats_sal_dummies['Free Throw Percent'].fillna(\n",
    "    stats_sal_dummies['Free Throw Percent'].median())"
   ]
  },
  {
   "cell_type": "markdown",
   "id": "930085b5",
   "metadata": {},
   "source": [
    "### EDA"
   ]
  },
  {
   "cell_type": "code",
   "execution_count": 32,
   "id": "9a18c268",
   "metadata": {},
   "outputs": [
    {
     "data": {
      "text/plain": [
       "[Text(0.5, 0, 'Points'),\n",
       " Text(0, 0.5, 'Salary'),\n",
       " Text(0.5, 1.0, 'Salary (10M) Vs Points')]"
      ]
     },
     "execution_count": 32,
     "metadata": {},
     "output_type": "execute_result"
    },
    {
     "data": {
      "image/png": "[encoded data removed]",
      "text/plain": [
       "<Figure size 640x480 with 1 Axes>"
      ]
     },
     "metadata": {},
     "output_type": "display_data"
    }
   ],
   "source": [
    "sal_points = sns.scatterplot(x='Points', y='2022_Salary', data=stats_sal_dummies)\n",
    "sal_points.set(xlabel =\"Points\", ylabel = \"Salary\", title ='Salary (10M) Vs Points')"
   ]
  },
  {
   "cell_type": "code",
   "execution_count": 33,
   "id": "808028e0",
   "metadata": {},
   "outputs": [
    {
     "data": {
      "text/plain": [
       "[Text(0.5, 0, 'Field Goal Percent'),\n",
       " Text(0, 0.5, 'Salary'),\n",
       " Text(0.5, 1.0, 'Salary (10M) Vs Field Goal Percent')]"
      ]
     },
     "execution_count": 33,
     "metadata": {},
     "output_type": "execute_result"
    },
    {
     "data": {
      "image/png": "[encoded data removed]",
      "text/plain": [
       "<Figure size 640x480 with 1 Axes>"
      ]
     },
     "metadata": {},
     "output_type": "display_data"
    }
   ],
   "source": [
    "sal_FG = sns.scatterplot(x='FG Percent', y='2022_Salary', data=stats_sal_dummies)\n",
    "sal_FG.set(xlabel =\"Field Goal Percent\", ylabel = \"Salary\", title ='Salary (10M) Vs Field Goal Percent')"
   ]
  },
  {
   "cell_type": "code",
   "execution_count": 34,
   "id": "d9c545f2",
   "metadata": {},
   "outputs": [
    {
     "data": {
      "text/plain": [
       "[Text(0.5, 1.0, 'Games Played Vs Points')]"
      ]
     },
     "execution_count": 34,
     "metadata": {},
     "output_type": "execute_result"
    },
    {
     "data": {
      "image/png": "[encoded data removed]",
      "text/plain": [
       "<Figure size 640x480 with 1 Axes>"
      ]
     },
     "metadata": {},
     "output_type": "display_data"
    }
   ],
   "source": [
    "sns.scatterplot(x='Games Played', y='Points', data=stats_sal_dummies).set(title='Games Played Vs Points')"
   ]
  },
  {
   "cell_type": "code",
   "execution_count": 35,
   "id": "2e8b15de",
   "metadata": {},
   "outputs": [
    {
     "data": {
      "text/plain": [
       "[Text(0.5, 1.0, 'Games Played Vs 2022 Salary')]"
      ]
     },
     "execution_count": 35,
     "metadata": {},
     "output_type": "execute_result"
    },
    {
     "data": {
      "image/png": "[encoded data removed]",
      "text/plain": [
       "<Figure size 640x480 with 1 Axes>"
      ]
     },
     "metadata": {},
     "output_type": "display_data"
    }
   ],
   "source": [
    "sns.scatterplot(x='Games Played', y='2022_Salary', data=stats_sal_dummies).set(title='Games Played Vs 2022 Salary')"
   ]
  },
  {
   "cell_type": "code",
   "execution_count": 36,
   "id": "4e269b0d",
   "metadata": {},
   "outputs": [
    {
     "data": {
      "text/plain": [
       "[Text(0.5, 1.0, 'Points by Age')]"
      ]
     },
     "execution_count": 36,
     "metadata": {},
     "output_type": "execute_result"
    },
    {
     "data": {
      "image/png": "[encoded data removed]",
      "text/plain": [
       "<Figure size 640x480 with 1 Axes>"
      ]
     },
     "metadata": {},
     "output_type": "display_data"
    }
   ],
   "source": [
    "sns.histplot(x='Age', y='Points', data=stats_sal_dummies).set(title='Points by Age')"
   ]
  },
  {
   "cell_type": "code",
   "execution_count": 37,
   "id": "42efb84d",
   "metadata": {},
   "outputs": [
    {
     "data": {
      "text/plain": [
       "[Text(0.5, 1.0, 'Salary (10M) by Age')]"
      ]
     },
     "execution_count": 37,
     "metadata": {},
     "output_type": "execute_result"
    },
    {
     "data": {
      "image/png": "[encoded data removed]",
      "text/plain": [
       "<Figure size 640x480 with 1 Axes>"
      ]
     },
     "metadata": {},
     "output_type": "display_data"
    }
   ],
   "source": [
    "sns.histplot(x='Age', y='2022_Salary', data=stats_sal_dummies).set(title='Salary (10M) by Age')"
   ]
  },
  {
   "cell_type": "code",
   "execution_count": 38,
   "id": "9ddb1341",
   "metadata": {
    "scrolled": false
   },
   "outputs": [
    {
     "data": {
      "text/plain": [
       "[Text(0.5, 1.0, 'Rebounds V Points')]"
      ]
     },
     "execution_count": 38,
     "metadata": {},
     "output_type": "execute_result"
    },
    {
     "data": {
      "image/png": "[encoded data removed]",
      "text/plain": [
       "<Figure size 640x480 with 1 Axes>"
      ]
     },
     "metadata": {},
     "output_type": "display_data"
    }
   ],
   "source": [
    "sns.histplot(x='Points', y='Total Rebound', data=stats_sal_dummies).set(title='Rebounds V Points')"
   ]
  },
  {
   "cell_type": "code",
   "execution_count": 39,
   "id": "883b534b",
   "metadata": {},
   "outputs": [
    {
     "data": {
      "text/plain": [
       "[Text(0.5, 1.0, 'Rebounds V Salary')]"
      ]
     },
     "execution_count": 39,
     "metadata": {},
     "output_type": "execute_result"
    },
    {
     "data": {
      "image/png": "[encoded data removed]",
      "text/plain": [
       "<Figure size 640x480 with 1 Axes>"
      ]
     },
     "metadata": {},
     "output_type": "display_data"
    }
   ],
   "source": [
    "sns.histplot(x='2022_Salary', y='Total Rebound', data=stats_sal_dummies).set(title='Rebounds V Salary')"
   ]
  },
  {
   "cell_type": "code",
   "execution_count": 40,
   "id": "32206daf",
   "metadata": {},
   "outputs": [
    {
     "data": {
      "text/plain": [
       "[Text(0.5, 1.0, 'Turnovers V Points')]"
      ]
     },
     "execution_count": 40,
     "metadata": {},
     "output_type": "execute_result"
    },
    {
     "data": {
      "image/png": "[encoded data removed]",
      "text/plain": [
       "<Figure size 640x480 with 1 Axes>"
      ]
     },
     "metadata": {},
     "output_type": "display_data"
    }
   ],
   "source": [
    "sns.histplot(x='Points', y='Turnovers', data=stats_sal_dummies).set(title='Turnovers V Points')"
   ]
  },
  {
   "cell_type": "code",
   "execution_count": 41,
   "id": "b9f1078f",
   "metadata": {},
   "outputs": [
    {
     "data": {
      "text/plain": [
       "[Text(0.5, 1.0, 'Turnovers V Salary (10M)')]"
      ]
     },
     "execution_count": 41,
     "metadata": {},
     "output_type": "execute_result"
    },
    {
     "data": {
      "image/png": "[encoded data removed]",
      "text/plain": [
       "<Figure size 640x480 with 1 Axes>"
      ]
     },
     "metadata": {},
     "output_type": "display_data"
    }
   ],
   "source": [
    "sns.histplot(x='Turnovers', y='2022_Salary', data=stats_sal_dummies).set(title='Turnovers V Salary (10M)')"
   ]
  },
  {
   "cell_type": "code",
   "execution_count": 42,
   "id": "3d7c87e6",
   "metadata": {
    "scrolled": false
   },
   "outputs": [
    {
     "data": {
      "text/plain": [
       "[Text(0.5, 1.0, 'Personal Fouls V Points')]"
      ]
     },
     "execution_count": 42,
     "metadata": {},
     "output_type": "execute_result"
    },
    {
     "data": {
      "image/png": "[encoded data removed]",
      "text/plain": [
       "<Figure size 640x480 with 1 Axes>"
      ]
     },
     "metadata": {},
     "output_type": "display_data"
    }
   ],
   "source": [
    "sns.histplot(x='Points', y='Personal Fouls', data=stats_sal_dummies).set(title='Personal Fouls V Points')"
   ]
  },
  {
   "cell_type": "code",
   "execution_count": 43,
   "id": "897fc007",
   "metadata": {},
   "outputs": [
    {
     "data": {
      "text/plain": [
       "[Text(0.5, 1.0, 'Personal Fouls V Salary')]"
      ]
     },
     "execution_count": 43,
     "metadata": {},
     "output_type": "execute_result"
    },
    {
     "data": {
      "image/png": "[encoded data removed]",
      "text/plain": [
       "<Figure size 640x480 with 1 Axes>"
      ]
     },
     "metadata": {},
     "output_type": "display_data"
    }
   ],
   "source": [
    "sns.histplot(x='2022_Salary', y='Personal Fouls', data=stats_sal_dummies).set(title='Personal Fouls V Salary')"
   ]
  },
  {
   "cell_type": "markdown",
   "id": "2f33c2da",
   "metadata": {},
   "source": [
    "### Split dataset"
   ]
  },
  {
   "cell_type": "code",
   "execution_count": 44,
   "id": "94e3f685",
   "metadata": {},
   "outputs": [],
   "source": [
    "# determine targets\n",
    "X = stats_sal_dummies.drop(['2022_Salary', 'Points'], axis=1)\n",
    "y = stats_sal_dummies[['2022_Salary', 'Points']]"
   ]
  },
  {
   "cell_type": "code",
   "execution_count": 61,
   "id": "239d7475",
   "metadata": {},
   "outputs": [],
   "source": [
    "X_train, X_test, y_train, y_test = train_test_split(X, y, test_size=0.33, random_state=42)"
   ]
  },
  {
   "cell_type": "markdown",
   "id": "bd725314",
   "metadata": {},
   "source": [
    "### Create models"
   ]
  },
  {
   "cell_type": "code",
   "execution_count": 62,
   "id": "2a17e8dc",
   "metadata": {
    "scrolled": true
   },
   "outputs": [
    {
     "data": {
      "text/html": [
       "<style>#sk-container-id-7 {color: black;background-color: white;}#sk-container-id-7 pre{padding: 0;}#sk-container-id-7 div.sk-toggleable {background-color: white;}#sk-container-id-7 label.sk-toggleable__label {cursor: pointer;display: block;width: 100%;margin-bottom: 0;padding: 0.3em;box-sizing: border-box;text-align: center;}#sk-container-id-7 label.sk-toggleable__label-arrow:before {content: \"▸\";float: left;margin-right: 0.25em;color: #696969;}#sk-container-id-7 label.sk-toggleable__label-arrow:hover:before {color: black;}#sk-container-id-7 div.sk-estimator:hover label.sk-toggleable__label-arrow:before {color: black;}#sk-container-id-7 div.sk-toggleable__content {max-height: 0;max-width: 0;overflow: hidden;text-align: left;background-color: #f0f8ff;}#sk-container-id-7 div.sk-toggleable__content pre {margin: 0.2em;color: black;border-radius: 0.25em;background-color: #f0f8ff;}#sk-container-id-7 input.sk-toggleable__control:checked~div.sk-toggleable__content {max-height: 200px;max-width: 100%;overflow: auto;}#sk-container-id-7 input.sk-toggleable__control:checked~label.sk-toggleable__label-arrow:before {content: \"▾\";}#sk-container-id-7 div.sk-estimator input.sk-toggleable__control:checked~label.sk-toggleable__label {background-color: #d4ebff;}#sk-container-id-7 div.sk-label input.sk-toggleable__control:checked~label.sk-toggleable__label {background-color: #d4ebff;}#sk-container-id-7 input.sk-hidden--visually {border: 0;clip: rect(1px 1px 1px 1px);clip: rect(1px, 1px, 1px, 1px);height: 1px;margin: -1px;overflow: hidden;padding: 0;position: absolute;width: 1px;}#sk-container-id-7 div.sk-estimator {font-family: monospace;background-color: #f0f8ff;border: 1px dotted black;border-radius: 0.25em;box-sizing: border-box;margin-bottom: 0.5em;}#sk-container-id-7 div.sk-estimator:hover {background-color: #d4ebff;}#sk-container-id-7 div.sk-parallel-item::after {content: \"\";width: 100%;border-bottom: 1px solid gray;flex-grow: 1;}#sk-container-id-7 div.sk-label:hover label.sk-toggleable__label {background-color: #d4ebff;}#sk-container-id-7 div.sk-serial::before {content: \"\";position: absolute;border-left: 1px solid gray;box-sizing: border-box;top: 0;bottom: 0;left: 50%;z-index: 0;}#sk-container-id-7 div.sk-serial {display: flex;flex-direction: column;align-items: center;background-color: white;padding-right: 0.2em;padding-left: 0.2em;position: relative;}#sk-container-id-7 div.sk-item {position: relative;z-index: 1;}#sk-container-id-7 div.sk-parallel {display: flex;align-items: stretch;justify-content: center;background-color: white;position: relative;}#sk-container-id-7 div.sk-item::before, #sk-container-id-7 div.sk-parallel-item::before {content: \"\";position: absolute;border-left: 1px solid gray;box-sizing: border-box;top: 0;bottom: 0;left: 50%;z-index: -1;}#sk-container-id-7 div.sk-parallel-item {display: flex;flex-direction: column;z-index: 1;position: relative;background-color: white;}#sk-container-id-7 div.sk-parallel-item:first-child::after {align-self: flex-end;width: 50%;}#sk-container-id-7 div.sk-parallel-item:last-child::after {align-self: flex-start;width: 50%;}#sk-container-id-7 div.sk-parallel-item:only-child::after {width: 0;}#sk-container-id-7 div.sk-dashed-wrapped {border: 1px dashed gray;margin: 0 0.4em 0.5em 0.4em;box-sizing: border-box;padding-bottom: 0.4em;background-color: white;}#sk-container-id-7 div.sk-label label {font-family: monospace;font-weight: bold;display: inline-block;line-height: 1.2em;}#sk-container-id-7 div.sk-label-container {text-align: center;}#sk-container-id-7 div.sk-container {/* jupyter's `normalize.less` sets `[hidden] { display: none; }` but bootstrap.min.css set `[hidden] { display: none !important; }` so we also need the `!important` here to be able to override the default hidden behavior on the sphinx rendered scikit-learn.org. See: https://github.com/scikit-learn/scikit-learn/issues/21755 */display: inline-block !important;position: relative;}#sk-container-id-7 div.sk-text-repr-fallback {display: none;}</style><div id=\"sk-container-id-7\" class=\"sk-top-container\"><div class=\"sk-text-repr-fallback\"><pre>MultiOutputRegressor(estimator=RandomForestRegressor(criterion=&#x27;poisson&#x27;,\n",
       "                                                     max_features=0.6,\n",
       "                                                     n_estimators=75, n_jobs=1,\n",
       "                                                     random_state=1))</pre><b>In a Jupyter environment, please rerun this cell to show the HTML representation or trust the notebook. <br />On GitHub, the HTML representation is unable to render, please try loading this page with nbviewer.org.</b></div><div class=\"sk-container\" hidden><div class=\"sk-item sk-dashed-wrapped\"><div class=\"sk-label-container\"><div class=\"sk-label sk-toggleable\"><input class=\"sk-toggleable__control sk-hidden--visually\" id=\"sk-estimator-id-11\" type=\"checkbox\" ><label for=\"sk-estimator-id-11\" class=\"sk-toggleable__label sk-toggleable__label-arrow\">MultiOutputRegressor</label><div class=\"sk-toggleable__content\"><pre>MultiOutputRegressor(estimator=RandomForestRegressor(criterion=&#x27;poisson&#x27;,\n",
       "                                                     max_features=0.6,\n",
       "                                                     n_estimators=75, n_jobs=1,\n",
       "                                                     random_state=1))</pre></div></div></div><div class=\"sk-parallel\"><div class=\"sk-parallel-item\"><div class=\"sk-item\"><div class=\"sk-label-container\"><div class=\"sk-label sk-toggleable\"><input class=\"sk-toggleable__control sk-hidden--visually\" id=\"sk-estimator-id-12\" type=\"checkbox\" ><label for=\"sk-estimator-id-12\" class=\"sk-toggleable__label sk-toggleable__label-arrow\">estimator: RandomForestRegressor</label><div class=\"sk-toggleable__content\"><pre>RandomForestRegressor(criterion=&#x27;poisson&#x27;, max_features=0.6, n_estimators=75,\n",
       "                      n_jobs=1, random_state=1)</pre></div></div></div><div class=\"sk-serial\"><div class=\"sk-item\"><div class=\"sk-estimator sk-toggleable\"><input class=\"sk-toggleable__control sk-hidden--visually\" id=\"sk-estimator-id-13\" type=\"checkbox\" ><label for=\"sk-estimator-id-13\" class=\"sk-toggleable__label sk-toggleable__label-arrow\">RandomForestRegressor</label><div class=\"sk-toggleable__content\"><pre>RandomForestRegressor(criterion=&#x27;poisson&#x27;, max_features=0.6, n_estimators=75,\n",
       "                      n_jobs=1, random_state=1)</pre></div></div></div></div></div></div></div></div></div></div>"
      ],
      "text/plain": [
       "MultiOutputRegressor(estimator=RandomForestRegressor(criterion='poisson',\n",
       "                                                     max_features=0.6,\n",
       "                                                     n_estimators=75, n_jobs=1,\n",
       "                                                     random_state=1))"
      ]
     },
     "execution_count": 62,
     "metadata": {},
     "output_type": "execute_result"
    }
   ],
   "source": [
    "# Create and train the multi-target regression model (ElasticNet)\n",
    "multioutput_model = MultiOutputRegressor(RandomForestRegressor(n_estimators=75, \n",
    "                               criterion='poisson', \n",
    "                               random_state=1, \n",
    "                               n_jobs=1,\n",
    "                               max_features=.6))\n",
    "multioutput_model.fit(X_train, y_train)"
   ]
  },
  {
   "cell_type": "code",
   "execution_count": 63,
   "id": "764c1d26",
   "metadata": {},
   "outputs": [
    {
     "data": {
      "text/html": [
       "<style>#sk-container-id-8 {color: black;background-color: white;}#sk-container-id-8 pre{padding: 0;}#sk-container-id-8 div.sk-toggleable {background-color: white;}#sk-container-id-8 label.sk-toggleable__label {cursor: pointer;display: block;width: 100%;margin-bottom: 0;padding: 0.3em;box-sizing: border-box;text-align: center;}#sk-container-id-8 label.sk-toggleable__label-arrow:before {content: \"▸\";float: left;margin-right: 0.25em;color: #696969;}#sk-container-id-8 label.sk-toggleable__label-arrow:hover:before {color: black;}#sk-container-id-8 div.sk-estimator:hover label.sk-toggleable__label-arrow:before {color: black;}#sk-container-id-8 div.sk-toggleable__content {max-height: 0;max-width: 0;overflow: hidden;text-align: left;background-color: #f0f8ff;}#sk-container-id-8 div.sk-toggleable__content pre {margin: 0.2em;color: black;border-radius: 0.25em;background-color: #f0f8ff;}#sk-container-id-8 input.sk-toggleable__control:checked~div.sk-toggleable__content {max-height: 200px;max-width: 100%;overflow: auto;}#sk-container-id-8 input.sk-toggleable__control:checked~label.sk-toggleable__label-arrow:before {content: \"▾\";}#sk-container-id-8 div.sk-estimator input.sk-toggleable__control:checked~label.sk-toggleable__label {background-color: #d4ebff;}#sk-container-id-8 div.sk-label input.sk-toggleable__control:checked~label.sk-toggleable__label {background-color: #d4ebff;}#sk-container-id-8 input.sk-hidden--visually {border: 0;clip: rect(1px 1px 1px 1px);clip: rect(1px, 1px, 1px, 1px);height: 1px;margin: -1px;overflow: hidden;padding: 0;position: absolute;width: 1px;}#sk-container-id-8 div.sk-estimator {font-family: monospace;background-color: #f0f8ff;border: 1px dotted black;border-radius: 0.25em;box-sizing: border-box;margin-bottom: 0.5em;}#sk-container-id-8 div.sk-estimator:hover {background-color: #d4ebff;}#sk-container-id-8 div.sk-parallel-item::after {content: \"\";width: 100%;border-bottom: 1px solid gray;flex-grow: 1;}#sk-container-id-8 div.sk-label:hover label.sk-toggleable__label {background-color: #d4ebff;}#sk-container-id-8 div.sk-serial::before {content: \"\";position: absolute;border-left: 1px solid gray;box-sizing: border-box;top: 0;bottom: 0;left: 50%;z-index: 0;}#sk-container-id-8 div.sk-serial {display: flex;flex-direction: column;align-items: center;background-color: white;padding-right: 0.2em;padding-left: 0.2em;position: relative;}#sk-container-id-8 div.sk-item {position: relative;z-index: 1;}#sk-container-id-8 div.sk-parallel {display: flex;align-items: stretch;justify-content: center;background-color: white;position: relative;}#sk-container-id-8 div.sk-item::before, #sk-container-id-8 div.sk-parallel-item::before {content: \"\";position: absolute;border-left: 1px solid gray;box-sizing: border-box;top: 0;bottom: 0;left: 50%;z-index: -1;}#sk-container-id-8 div.sk-parallel-item {display: flex;flex-direction: column;z-index: 1;position: relative;background-color: white;}#sk-container-id-8 div.sk-parallel-item:first-child::after {align-self: flex-end;width: 50%;}#sk-container-id-8 div.sk-parallel-item:last-child::after {align-self: flex-start;width: 50%;}#sk-container-id-8 div.sk-parallel-item:only-child::after {width: 0;}#sk-container-id-8 div.sk-dashed-wrapped {border: 1px dashed gray;margin: 0 0.4em 0.5em 0.4em;box-sizing: border-box;padding-bottom: 0.4em;background-color: white;}#sk-container-id-8 div.sk-label label {font-family: monospace;font-weight: bold;display: inline-block;line-height: 1.2em;}#sk-container-id-8 div.sk-label-container {text-align: center;}#sk-container-id-8 div.sk-container {/* jupyter's `normalize.less` sets `[hidden] { display: none; }` but bootstrap.min.css set `[hidden] { display: none !important; }` so we also need the `!important` here to be able to override the default hidden behavior on the sphinx rendered scikit-learn.org. See: https://github.com/scikit-learn/scikit-learn/issues/21755 */display: inline-block !important;position: relative;}#sk-container-id-8 div.sk-text-repr-fallback {display: none;}</style><div id=\"sk-container-id-8\" class=\"sk-top-container\"><div class=\"sk-text-repr-fallback\"><pre>DecisionTreeRegressor(random_state=42)</pre><b>In a Jupyter environment, please rerun this cell to show the HTML representation or trust the notebook. <br />On GitHub, the HTML representation is unable to render, please try loading this page with nbviewer.org.</b></div><div class=\"sk-container\" hidden><div class=\"sk-item\"><div class=\"sk-estimator sk-toggleable\"><input class=\"sk-toggleable__control sk-hidden--visually\" id=\"sk-estimator-id-14\" type=\"checkbox\" checked><label for=\"sk-estimator-id-14\" class=\"sk-toggleable__label sk-toggleable__label-arrow\">DecisionTreeRegressor</label><div class=\"sk-toggleable__content\"><pre>DecisionTreeRegressor(random_state=42)</pre></div></div></div></div></div>"
      ],
      "text/plain": [
       "DecisionTreeRegressor(random_state=42)"
      ]
     },
     "execution_count": 63,
     "metadata": {},
     "output_type": "execute_result"
    }
   ],
   "source": [
    "# Create and train the decision tree regressor model\n",
    "tree_model = DecisionTreeRegressor(random_state=42)\n",
    "tree_model.fit(X_train, y_train)"
   ]
  },
  {
   "cell_type": "code",
   "execution_count": 64,
   "id": "54736cbf",
   "metadata": {},
   "outputs": [
    {
     "data": {
      "text/html": [
       "<style>#sk-container-id-9 {color: black;background-color: white;}#sk-container-id-9 pre{padding: 0;}#sk-container-id-9 div.sk-toggleable {background-color: white;}#sk-container-id-9 label.sk-toggleable__label {cursor: pointer;display: block;width: 100%;margin-bottom: 0;padding: 0.3em;box-sizing: border-box;text-align: center;}#sk-container-id-9 label.sk-toggleable__label-arrow:before {content: \"▸\";float: left;margin-right: 0.25em;color: #696969;}#sk-container-id-9 label.sk-toggleable__label-arrow:hover:before {color: black;}#sk-container-id-9 div.sk-estimator:hover label.sk-toggleable__label-arrow:before {color: black;}#sk-container-id-9 div.sk-toggleable__content {max-height: 0;max-width: 0;overflow: hidden;text-align: left;background-color: #f0f8ff;}#sk-container-id-9 div.sk-toggleable__content pre {margin: 0.2em;color: black;border-radius: 0.25em;background-color: #f0f8ff;}#sk-container-id-9 input.sk-toggleable__control:checked~div.sk-toggleable__content {max-height: 200px;max-width: 100%;overflow: auto;}#sk-container-id-9 input.sk-toggleable__control:checked~label.sk-toggleable__label-arrow:before {content: \"▾\";}#sk-container-id-9 div.sk-estimator input.sk-toggleable__control:checked~label.sk-toggleable__label {background-color: #d4ebff;}#sk-container-id-9 div.sk-label input.sk-toggleable__control:checked~label.sk-toggleable__label {background-color: #d4ebff;}#sk-container-id-9 input.sk-hidden--visually {border: 0;clip: rect(1px 1px 1px 1px);clip: rect(1px, 1px, 1px, 1px);height: 1px;margin: -1px;overflow: hidden;padding: 0;position: absolute;width: 1px;}#sk-container-id-9 div.sk-estimator {font-family: monospace;background-color: #f0f8ff;border: 1px dotted black;border-radius: 0.25em;box-sizing: border-box;margin-bottom: 0.5em;}#sk-container-id-9 div.sk-estimator:hover {background-color: #d4ebff;}#sk-container-id-9 div.sk-parallel-item::after {content: \"\";width: 100%;border-bottom: 1px solid gray;flex-grow: 1;}#sk-container-id-9 div.sk-label:hover label.sk-toggleable__label {background-color: #d4ebff;}#sk-container-id-9 div.sk-serial::before {content: \"\";position: absolute;border-left: 1px solid gray;box-sizing: border-box;top: 0;bottom: 0;left: 50%;z-index: 0;}#sk-container-id-9 div.sk-serial {display: flex;flex-direction: column;align-items: center;background-color: white;padding-right: 0.2em;padding-left: 0.2em;position: relative;}#sk-container-id-9 div.sk-item {position: relative;z-index: 1;}#sk-container-id-9 div.sk-parallel {display: flex;align-items: stretch;justify-content: center;background-color: white;position: relative;}#sk-container-id-9 div.sk-item::before, #sk-container-id-9 div.sk-parallel-item::before {content: \"\";position: absolute;border-left: 1px solid gray;box-sizing: border-box;top: 0;bottom: 0;left: 50%;z-index: -1;}#sk-container-id-9 div.sk-parallel-item {display: flex;flex-direction: column;z-index: 1;position: relative;background-color: white;}#sk-container-id-9 div.sk-parallel-item:first-child::after {align-self: flex-end;width: 50%;}#sk-container-id-9 div.sk-parallel-item:last-child::after {align-self: flex-start;width: 50%;}#sk-container-id-9 div.sk-parallel-item:only-child::after {width: 0;}#sk-container-id-9 div.sk-dashed-wrapped {border: 1px dashed gray;margin: 0 0.4em 0.5em 0.4em;box-sizing: border-box;padding-bottom: 0.4em;background-color: white;}#sk-container-id-9 div.sk-label label {font-family: monospace;font-weight: bold;display: inline-block;line-height: 1.2em;}#sk-container-id-9 div.sk-label-container {text-align: center;}#sk-container-id-9 div.sk-container {/* jupyter's `normalize.less` sets `[hidden] { display: none; }` but bootstrap.min.css set `[hidden] { display: none !important; }` so we also need the `!important` here to be able to override the default hidden behavior on the sphinx rendered scikit-learn.org. See: https://github.com/scikit-learn/scikit-learn/issues/21755 */display: inline-block !important;position: relative;}#sk-container-id-9 div.sk-text-repr-fallback {display: none;}</style><div id=\"sk-container-id-9\" class=\"sk-top-container\"><div class=\"sk-text-repr-fallback\"><pre>RandomForestRegressor(criterion=&#x27;poisson&#x27;, max_features=0.6, n_jobs=1,\n",
       "                      random_state=1)</pre><b>In a Jupyter environment, please rerun this cell to show the HTML representation or trust the notebook. <br />On GitHub, the HTML representation is unable to render, please try loading this page with nbviewer.org.</b></div><div class=\"sk-container\" hidden><div class=\"sk-item\"><div class=\"sk-estimator sk-toggleable\"><input class=\"sk-toggleable__control sk-hidden--visually\" id=\"sk-estimator-id-15\" type=\"checkbox\" checked><label for=\"sk-estimator-id-15\" class=\"sk-toggleable__label sk-toggleable__label-arrow\">RandomForestRegressor</label><div class=\"sk-toggleable__content\"><pre>RandomForestRegressor(criterion=&#x27;poisson&#x27;, max_features=0.6, n_jobs=1,\n",
       "                      random_state=1)</pre></div></div></div></div></div>"
      ],
      "text/plain": [
       "RandomForestRegressor(criterion='poisson', max_features=0.6, n_jobs=1,\n",
       "                      random_state=1)"
      ]
     },
     "execution_count": 64,
     "metadata": {},
     "output_type": "execute_result"
    }
   ],
   "source": [
    "# Create and train the random forest regressor model\n",
    "forest_model = RandomForestRegressor(n_estimators=100, \n",
    "                               criterion='poisson', \n",
    "                               random_state=1, \n",
    "                               n_jobs=1,\n",
    "                               max_features=.6)\n",
    "forest_model.fit(X_train, y_train)"
   ]
  },
  {
   "cell_type": "markdown",
   "id": "66228ea2",
   "metadata": {},
   "source": [
    "### Model Evaluation"
   ]
  },
  {
   "cell_type": "code",
   "execution_count": 65,
   "id": "80257320",
   "metadata": {},
   "outputs": [],
   "source": [
    "# Make predictions\n",
    "multioutput_pred = multioutput_model.predict(X_test)\n",
    "tree_pred = tree_model.predict(X_test)\n",
    "forest_pred = forest_model.predict(X_test)"
   ]
  },
  {
   "cell_type": "code",
   "execution_count": 66,
   "id": "e500b154",
   "metadata": {},
   "outputs": [
    {
     "name": "stdout",
     "output_type": "stream",
     "text": [
      "The MSE is 14911620308668.424. \n",
      "The RMSE is 2730585.8036343413. \n",
      "The MAE is 1806607.4916013316. \n",
      "The R2 Score of salary is 0.7164800203658392 and of points 0.9445674104300639.\n"
     ]
    }
   ],
   "source": [
    "# Calculate performance metrics for multioutput model\n",
    "multioutput_mse = mean_squared_error(y_test, multioutput_pred)\n",
    "multioutput_rmse = mean_squared_error(y_test, multioutput_pred, squared=False)\n",
    "multioutput_mae = mean_absolute_error(y_test, multioutput_pred)\n",
    "multioutput_r2 = r2_score(y_test, multioutput_pred, multioutput='raw_values')\n",
    "print(f\"The MSE is {multioutput_mse}.\",\n",
    "      f\"\\nThe RMSE is {multioutput_rmse}.\",\n",
    "      f\"\\nThe MAE is {multioutput_mae}.\",\n",
    "      f\"\\nThe R2 Score of salary is {multioutput_r2[0]} and of points {multioutput_r2[1]}.\")"
   ]
  },
  {
   "cell_type": "code",
   "execution_count": 67,
   "id": "f5303ab8",
   "metadata": {},
   "outputs": [
    {
     "name": "stdout",
     "output_type": "stream",
     "text": [
      "The MSE is 37062369008276.69. \n",
      "The RMSE is 4304893.093836926. \n",
      "The MAE is 2654536.208333333. \n",
      "The R2 Score of salary is 0.29531989908738543 and of points 0.7734564029245238.\n"
     ]
    }
   ],
   "source": [
    "# Calculate performance metrics for decision tree model\n",
    "tree_mse = mean_squared_error(y_test, tree_pred)\n",
    "tree_rmse = mean_squared_error(y_test, tree_pred, squared=False)\n",
    "tree_mae = mean_absolute_error(y_test, tree_pred)\n",
    "tree_r2 = r2_score(y_test, tree_pred, multioutput='raw_values')\n",
    "print(f\"The MSE is {tree_mse}.\",\n",
    "      f\"\\nThe RMSE is {tree_rmse}.\",\n",
    "      f\"\\nThe MAE is {tree_mae}.\",\n",
    "      f\"\\nThe R2 Score of salary is {tree_r2[0]} and of points {tree_r2[1]}.\")"
   ]
  },
  {
   "cell_type": "code",
   "execution_count": 68,
   "id": "0468fe3c",
   "metadata": {},
   "outputs": [
    {
     "name": "stdout",
     "output_type": "stream",
     "text": [
      "The MSE is 15531240961282.39. \n",
      "The RMSE is 2786750.759724285. \n",
      "The MAE is 1846414.8065426752. \n",
      "The R2 Score of salary is 0.7046989509403154 and of points 0.9175455666304863.\n"
     ]
    }
   ],
   "source": [
    "# Calculate performance metrics for random forest model\n",
    "forest_mse = mean_squared_error(y_test, forest_pred)\n",
    "forest_rmse = mean_squared_error(y_test, forest_pred, squared=False)\n",
    "forest_mae = mean_absolute_error(y_test, forest_pred)\n",
    "forest_r2 = r2_score(y_test, forest_pred, multioutput='raw_values')\n",
    "print(f\"The MSE is {forest_mse}.\",\n",
    "      f\"\\nThe RMSE is {forest_rmse}.\",\n",
    "      f\"\\nThe MAE is {forest_mae}.\",\n",
    "      f\"\\nThe R2 Score of salary is {forest_r2[0]} and of points {forest_r2[1]}.\")"
   ]
  },
  {
   "cell_type": "markdown",
   "id": "d4cd8910",
   "metadata": {},
   "source": [
    "### References"
   ]
  },
  {
   "cell_type": "markdown",
   "id": "f47e7d17",
   "metadata": {},
   "source": [
    "https://medium.com/@tubelwj/developing-multi-class-regression-models-with-python-c8beca5dd482#:~:text=Multi%2DTarget%20Regressor%3A%20This%20is,linear%20combination%20of%20input%20features."
   ]
  }
 ],
 "metadata": {
  "kernelspec": {
   "display_name": "Python 3 (ipykernel)",
   "language": "python",
   "name": "python3"
  },
  "language_info": {
   "codemirror_mode": {
    "name": "ipython",
    "version": 3
   },
   "file_extension": ".py",
   "mimetype": "text/x-python",
   "name": "python",
   "nbconvert_exporter": "python",
   "pygments_lexer": "ipython3",
   "version": "3.9.13"
  }
 },
 "nbformat": 4,
 "nbformat_minor": 5
}
